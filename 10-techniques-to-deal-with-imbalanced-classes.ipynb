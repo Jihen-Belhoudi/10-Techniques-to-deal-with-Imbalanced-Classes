{
 "cells": [
  {
   "cell_type": "markdown",
   "id": "4ac8e761",
   "metadata": {
    "papermill": {
     "duration": 0.029153,
     "end_time": "2022-01-07T22:47:31.809416",
     "exception": false,
     "start_time": "2022-01-07T22:47:31.780263",
     "status": "completed"
    },
    "tags": []
   },
   "source": [
    "**First of all, we need to import all the necessary libraries.**"
   ]
  },
  {
   "cell_type": "code",
   "execution_count": 1,
   "id": "5e9e74f9",
   "metadata": {
    "execution": {
     "iopub.execute_input": "2022-01-07T22:47:31.872916Z",
     "iopub.status.busy": "2022-01-07T22:47:31.871100Z",
     "iopub.status.idle": "2022-01-07T22:47:33.355665Z",
     "shell.execute_reply": "2022-01-07T22:47:33.354861Z",
     "shell.execute_reply.started": "2022-01-07T20:53:42.249053Z"
    },
    "papermill": {
     "duration": 1.51801,
     "end_time": "2022-01-07T22:47:33.355829",
     "exception": false,
     "start_time": "2022-01-07T22:47:31.837819",
     "status": "completed"
    },
    "tags": []
   },
   "outputs": [],
   "source": [
    "import seaborn as sns\n",
    "import matplotlib.pyplot as plt\n",
    "import pandas as pd\n",
    "import imblearn\n",
    "from sklearn.metrics import accuracy_score,classification_report,plot_confusion_matrix,plot_roc_curve"
   ]
  },
  {
   "cell_type": "code",
   "execution_count": 2,
   "id": "3aeec28a",
   "metadata": {
    "execution": {
     "iopub.execute_input": "2022-01-07T22:47:33.417941Z",
     "iopub.status.busy": "2022-01-07T22:47:33.417227Z",
     "iopub.status.idle": "2022-01-07T22:47:49.255254Z",
     "shell.execute_reply": "2022-01-07T22:47:49.254327Z",
     "shell.execute_reply.started": "2022-01-07T20:53:43.794141Z"
    },
    "papermill": {
     "duration": 15.870876,
     "end_time": "2022-01-07T22:47:49.255421",
     "exception": false,
     "start_time": "2022-01-07T22:47:33.384545",
     "status": "completed"
    },
    "tags": []
   },
   "outputs": [],
   "source": [
    "df=pd.read_csv('../input/swarm-behaviour-classification/Swarm_Behaviour.csv')"
   ]
  },
  {
   "cell_type": "markdown",
   "id": "89d6bf05",
   "metadata": {
    "papermill": {
     "duration": 0.028001,
     "end_time": "2022-01-07T22:47:49.312249",
     "exception": false,
     "start_time": "2022-01-07T22:47:49.284248",
     "status": "completed"
    },
    "tags": []
   },
   "source": [
    "# **Exploratory Data Analysis**"
   ]
  },
  {
   "cell_type": "code",
   "execution_count": 3,
   "id": "8e1d393d",
   "metadata": {
    "execution": {
     "iopub.execute_input": "2022-01-07T22:47:49.376864Z",
     "iopub.status.busy": "2022-01-07T22:47:49.376161Z",
     "iopub.status.idle": "2022-01-07T22:47:49.413562Z",
     "shell.execute_reply": "2022-01-07T22:47:49.413070Z",
     "shell.execute_reply.started": "2022-01-07T20:53:58.793852Z"
    },
    "papermill": {
     "duration": 0.073557,
     "end_time": "2022-01-07T22:47:49.413755",
     "exception": false,
     "start_time": "2022-01-07T22:47:49.340198",
     "status": "completed"
    },
    "tags": []
   },
   "outputs": [
    {
     "data": {
      "text/html": [
       "<div>\n",
       "<style scoped>\n",
       "    .dataframe tbody tr th:only-of-type {\n",
       "        vertical-align: middle;\n",
       "    }\n",
       "\n",
       "    .dataframe tbody tr th {\n",
       "        vertical-align: top;\n",
       "    }\n",
       "\n",
       "    .dataframe thead th {\n",
       "        text-align: right;\n",
       "    }\n",
       "</style>\n",
       "<table border=\"1\" class=\"dataframe\">\n",
       "  <thead>\n",
       "    <tr style=\"text-align: right;\">\n",
       "      <th></th>\n",
       "      <th>x1</th>\n",
       "      <th>y1</th>\n",
       "      <th>xVel1</th>\n",
       "      <th>yVel1</th>\n",
       "      <th>xA1</th>\n",
       "      <th>yA1</th>\n",
       "      <th>xS1</th>\n",
       "      <th>yS1</th>\n",
       "      <th>xC1</th>\n",
       "      <th>yC1</th>\n",
       "      <th>...</th>\n",
       "      <th>yVel200</th>\n",
       "      <th>xA200</th>\n",
       "      <th>yA200</th>\n",
       "      <th>xS200</th>\n",
       "      <th>yS200</th>\n",
       "      <th>xC200</th>\n",
       "      <th>yC200</th>\n",
       "      <th>nAC200</th>\n",
       "      <th>nS200</th>\n",
       "      <th>Swarm_Behaviour</th>\n",
       "    </tr>\n",
       "  </thead>\n",
       "  <tbody>\n",
       "    <tr>\n",
       "      <th>0</th>\n",
       "      <td>562.05</td>\n",
       "      <td>-0.62</td>\n",
       "      <td>-10.70</td>\n",
       "      <td>-4.33</td>\n",
       "      <td>0.00</td>\n",
       "      <td>0.00</td>\n",
       "      <td>0.0</td>\n",
       "      <td>0.0</td>\n",
       "      <td>0.00</td>\n",
       "      <td>0.00</td>\n",
       "      <td>...</td>\n",
       "      <td>-15.15</td>\n",
       "      <td>0.00</td>\n",
       "      <td>0.00</td>\n",
       "      <td>0.00</td>\n",
       "      <td>0.00</td>\n",
       "      <td>0.00</td>\n",
       "      <td>0.0</td>\n",
       "      <td>28</td>\n",
       "      <td>0</td>\n",
       "      <td>0.0</td>\n",
       "    </tr>\n",
       "    <tr>\n",
       "      <th>1</th>\n",
       "      <td>175.66</td>\n",
       "      <td>-57.09</td>\n",
       "      <td>2.31</td>\n",
       "      <td>-2.67</td>\n",
       "      <td>0.00</td>\n",
       "      <td>0.00</td>\n",
       "      <td>0.0</td>\n",
       "      <td>0.0</td>\n",
       "      <td>0.00</td>\n",
       "      <td>0.00</td>\n",
       "      <td>...</td>\n",
       "      <td>-3.48</td>\n",
       "      <td>0.00</td>\n",
       "      <td>0.00</td>\n",
       "      <td>0.00</td>\n",
       "      <td>0.00</td>\n",
       "      <td>0.00</td>\n",
       "      <td>0.0</td>\n",
       "      <td>4</td>\n",
       "      <td>0</td>\n",
       "      <td>0.0</td>\n",
       "    </tr>\n",
       "    <tr>\n",
       "      <th>2</th>\n",
       "      <td>200.16</td>\n",
       "      <td>-320.07</td>\n",
       "      <td>4.01</td>\n",
       "      <td>-6.37</td>\n",
       "      <td>0.00</td>\n",
       "      <td>0.00</td>\n",
       "      <td>0.0</td>\n",
       "      <td>0.0</td>\n",
       "      <td>0.18</td>\n",
       "      <td>-0.26</td>\n",
       "      <td>...</td>\n",
       "      <td>-9.38</td>\n",
       "      <td>0.00</td>\n",
       "      <td>0.00</td>\n",
       "      <td>0.00</td>\n",
       "      <td>0.00</td>\n",
       "      <td>-0.11</td>\n",
       "      <td>-0.3</td>\n",
       "      <td>15</td>\n",
       "      <td>1</td>\n",
       "      <td>0.0</td>\n",
       "    </tr>\n",
       "    <tr>\n",
       "      <th>3</th>\n",
       "      <td>316.99</td>\n",
       "      <td>-906.84</td>\n",
       "      <td>0.85</td>\n",
       "      <td>9.17</td>\n",
       "      <td>-0.17</td>\n",
       "      <td>1.03</td>\n",
       "      <td>0.0</td>\n",
       "      <td>0.0</td>\n",
       "      <td>0.00</td>\n",
       "      <td>0.00</td>\n",
       "      <td>...</td>\n",
       "      <td>10.39</td>\n",
       "      <td>-0.26</td>\n",
       "      <td>1.01</td>\n",
       "      <td>0.00</td>\n",
       "      <td>0.00</td>\n",
       "      <td>0.00</td>\n",
       "      <td>0.0</td>\n",
       "      <td>16</td>\n",
       "      <td>0</td>\n",
       "      <td>0.0</td>\n",
       "    </tr>\n",
       "    <tr>\n",
       "      <th>4</th>\n",
       "      <td>1277.68</td>\n",
       "      <td>908.54</td>\n",
       "      <td>-2.02</td>\n",
       "      <td>8.23</td>\n",
       "      <td>-1.00</td>\n",
       "      <td>1.00</td>\n",
       "      <td>0.0</td>\n",
       "      <td>0.0</td>\n",
       "      <td>0.00</td>\n",
       "      <td>0.00</td>\n",
       "      <td>...</td>\n",
       "      <td>13.91</td>\n",
       "      <td>-1.00</td>\n",
       "      <td>0.00</td>\n",
       "      <td>3.21</td>\n",
       "      <td>15.67</td>\n",
       "      <td>0.00</td>\n",
       "      <td>0.0</td>\n",
       "      <td>12</td>\n",
       "      <td>0</td>\n",
       "      <td>0.0</td>\n",
       "    </tr>\n",
       "  </tbody>\n",
       "</table>\n",
       "<p>5 rows × 2401 columns</p>\n",
       "</div>"
      ],
      "text/plain": [
       "        x1      y1  xVel1  yVel1   xA1   yA1  xS1  yS1   xC1   yC1  ...  \\\n",
       "0   562.05   -0.62 -10.70  -4.33  0.00  0.00  0.0  0.0  0.00  0.00  ...   \n",
       "1   175.66  -57.09   2.31  -2.67  0.00  0.00  0.0  0.0  0.00  0.00  ...   \n",
       "2   200.16 -320.07   4.01  -6.37  0.00  0.00  0.0  0.0  0.18 -0.26  ...   \n",
       "3   316.99 -906.84   0.85   9.17 -0.17  1.03  0.0  0.0  0.00  0.00  ...   \n",
       "4  1277.68  908.54  -2.02   8.23 -1.00  1.00  0.0  0.0  0.00  0.00  ...   \n",
       "\n",
       "   yVel200  xA200  yA200  xS200  yS200  xC200  yC200  nAC200  nS200  \\\n",
       "0   -15.15   0.00   0.00   0.00   0.00   0.00    0.0      28      0   \n",
       "1    -3.48   0.00   0.00   0.00   0.00   0.00    0.0       4      0   \n",
       "2    -9.38   0.00   0.00   0.00   0.00  -0.11   -0.3      15      1   \n",
       "3    10.39  -0.26   1.01   0.00   0.00   0.00    0.0      16      0   \n",
       "4    13.91  -1.00   0.00   3.21  15.67   0.00    0.0      12      0   \n",
       "\n",
       "   Swarm_Behaviour  \n",
       "0              0.0  \n",
       "1              0.0  \n",
       "2              0.0  \n",
       "3              0.0  \n",
       "4              0.0  \n",
       "\n",
       "[5 rows x 2401 columns]"
      ]
     },
     "execution_count": 3,
     "metadata": {},
     "output_type": "execute_result"
    }
   ],
   "source": [
    "df.head()"
   ]
  },
  {
   "cell_type": "code",
   "execution_count": 4,
   "id": "fe8b9a63",
   "metadata": {
    "execution": {
     "iopub.execute_input": "2022-01-07T22:47:49.533045Z",
     "iopub.status.busy": "2022-01-07T22:47:49.517482Z",
     "iopub.status.idle": "2022-01-07T22:47:49.601526Z",
     "shell.execute_reply": "2022-01-07T22:47:49.602021Z",
     "shell.execute_reply.started": "2022-01-07T20:53:58.841083Z"
    },
    "papermill": {
     "duration": 0.158799,
     "end_time": "2022-01-07T22:47:49.602189",
     "exception": false,
     "start_time": "2022-01-07T22:47:49.443390",
     "status": "completed"
    },
    "tags": []
   },
   "outputs": [
    {
     "name": "stdout",
     "output_type": "stream",
     "text": [
      "<class 'pandas.core.frame.DataFrame'>\n",
      "RangeIndex: 23309 entries, 0 to 23308\n",
      "Columns: 2401 entries, x1 to Swarm_Behaviour\n",
      "dtypes: float64(2001), int64(400)\n",
      "memory usage: 427.0 MB\n"
     ]
    }
   ],
   "source": [
    "df.info()"
   ]
  },
  {
   "cell_type": "code",
   "execution_count": 5,
   "id": "07710122",
   "metadata": {
    "execution": {
     "iopub.execute_input": "2022-01-07T22:47:49.666075Z",
     "iopub.status.busy": "2022-01-07T22:47:49.665056Z",
     "iopub.status.idle": "2022-01-07T22:47:49.793408Z",
     "shell.execute_reply": "2022-01-07T22:47:49.792777Z",
     "shell.execute_reply.started": "2022-01-07T20:53:58.997928Z"
    },
    "papermill": {
     "duration": 0.160911,
     "end_time": "2022-01-07T22:47:49.793547",
     "exception": false,
     "start_time": "2022-01-07T22:47:49.632636",
     "status": "completed"
    },
    "tags": []
   },
   "outputs": [
    {
     "data": {
      "text/plain": [
       "x1                 0\n",
       "y1                 0\n",
       "xVel1              0\n",
       "yVel1              0\n",
       "xA1                0\n",
       "                  ..\n",
       "xC200              0\n",
       "yC200              0\n",
       "nAC200             0\n",
       "nS200              0\n",
       "Swarm_Behaviour    0\n",
       "Length: 2401, dtype: int64"
      ]
     },
     "execution_count": 5,
     "metadata": {},
     "output_type": "execute_result"
    }
   ],
   "source": [
    "df.isna().sum()"
   ]
  },
  {
   "cell_type": "code",
   "execution_count": 6,
   "id": "bc240a86",
   "metadata": {
    "execution": {
     "iopub.execute_input": "2022-01-07T22:47:49.990743Z",
     "iopub.status.busy": "2022-01-07T22:47:49.855576Z",
     "iopub.status.idle": "2022-01-07T22:47:56.037954Z",
     "shell.execute_reply": "2022-01-07T22:47:56.037389Z",
     "shell.execute_reply.started": "2022-01-07T20:53:59.137793Z"
    },
    "papermill": {
     "duration": 6.214901,
     "end_time": "2022-01-07T22:47:56.038093",
     "exception": false,
     "start_time": "2022-01-07T22:47:49.823192",
     "status": "completed"
    },
    "tags": []
   },
   "outputs": [
    {
     "data": {
      "text/html": [
       "<div>\n",
       "<style scoped>\n",
       "    .dataframe tbody tr th:only-of-type {\n",
       "        vertical-align: middle;\n",
       "    }\n",
       "\n",
       "    .dataframe tbody tr th {\n",
       "        vertical-align: top;\n",
       "    }\n",
       "\n",
       "    .dataframe thead th {\n",
       "        text-align: right;\n",
       "    }\n",
       "</style>\n",
       "<table border=\"1\" class=\"dataframe\">\n",
       "  <thead>\n",
       "    <tr style=\"text-align: right;\">\n",
       "      <th></th>\n",
       "      <th>x1</th>\n",
       "      <th>y1</th>\n",
       "      <th>xVel1</th>\n",
       "      <th>yVel1</th>\n",
       "      <th>xA1</th>\n",
       "      <th>yA1</th>\n",
       "      <th>xS1</th>\n",
       "      <th>yS1</th>\n",
       "      <th>xC1</th>\n",
       "      <th>yC1</th>\n",
       "      <th>...</th>\n",
       "      <th>yVel200</th>\n",
       "      <th>xA200</th>\n",
       "      <th>yA200</th>\n",
       "      <th>xS200</th>\n",
       "      <th>yS200</th>\n",
       "      <th>xC200</th>\n",
       "      <th>yC200</th>\n",
       "      <th>nAC200</th>\n",
       "      <th>nS200</th>\n",
       "      <th>Swarm_Behaviour</th>\n",
       "    </tr>\n",
       "  </thead>\n",
       "  <tbody>\n",
       "    <tr>\n",
       "      <th>count</th>\n",
       "      <td>23309.000000</td>\n",
       "      <td>23309.000000</td>\n",
       "      <td>23309.000000</td>\n",
       "      <td>23309.000000</td>\n",
       "      <td>23309.000000</td>\n",
       "      <td>23309.000000</td>\n",
       "      <td>23309.000000</td>\n",
       "      <td>23309.000000</td>\n",
       "      <td>23309.000000</td>\n",
       "      <td>23309.000000</td>\n",
       "      <td>...</td>\n",
       "      <td>23309.000000</td>\n",
       "      <td>23309.000000</td>\n",
       "      <td>23309.000000</td>\n",
       "      <td>23309.000000</td>\n",
       "      <td>23309.000000</td>\n",
       "      <td>23309.000000</td>\n",
       "      <td>23309.000000</td>\n",
       "      <td>23309.000000</td>\n",
       "      <td>23309.000000</td>\n",
       "      <td>23309.000000</td>\n",
       "    </tr>\n",
       "    <tr>\n",
       "      <th>mean</th>\n",
       "      <td>104.413631</td>\n",
       "      <td>-73.481853</td>\n",
       "      <td>-0.697607</td>\n",
       "      <td>0.061480</td>\n",
       "      <td>-0.147964</td>\n",
       "      <td>0.152034</td>\n",
       "      <td>-1.055732</td>\n",
       "      <td>-0.731546</td>\n",
       "      <td>-0.034915</td>\n",
       "      <td>0.077123</td>\n",
       "      <td>...</td>\n",
       "      <td>0.086824</td>\n",
       "      <td>-0.126276</td>\n",
       "      <td>0.127497</td>\n",
       "      <td>-1.526260</td>\n",
       "      <td>-0.118891</td>\n",
       "      <td>-0.012388</td>\n",
       "      <td>0.085076</td>\n",
       "      <td>26.433995</td>\n",
       "      <td>2.130679</td>\n",
       "      <td>0.341242</td>\n",
       "    </tr>\n",
       "    <tr>\n",
       "      <th>std</th>\n",
       "      <td>843.200079</td>\n",
       "      <td>573.329374</td>\n",
       "      <td>6.427840</td>\n",
       "      <td>7.366739</td>\n",
       "      <td>0.376078</td>\n",
       "      <td>0.588582</td>\n",
       "      <td>26.388570</td>\n",
       "      <td>20.684183</td>\n",
       "      <td>0.559690</td>\n",
       "      <td>0.628478</td>\n",
       "      <td>...</td>\n",
       "      <td>7.683539</td>\n",
       "      <td>0.378830</td>\n",
       "      <td>0.570589</td>\n",
       "      <td>73.903764</td>\n",
       "      <td>7.002853</td>\n",
       "      <td>0.555143</td>\n",
       "      <td>0.614603</td>\n",
       "      <td>34.136098</td>\n",
       "      <td>7.431911</td>\n",
       "      <td>0.474136</td>\n",
       "    </tr>\n",
       "    <tr>\n",
       "      <th>min</th>\n",
       "      <td>-1414.140000</td>\n",
       "      <td>-1012.180000</td>\n",
       "      <td>-18.590000</td>\n",
       "      <td>-18.410000</td>\n",
       "      <td>-1.000000</td>\n",
       "      <td>-1.000000</td>\n",
       "      <td>-944.070000</td>\n",
       "      <td>-847.910000</td>\n",
       "      <td>-2.680000</td>\n",
       "      <td>-2.680000</td>\n",
       "      <td>...</td>\n",
       "      <td>-18.440000</td>\n",
       "      <td>-1.040000</td>\n",
       "      <td>-1.000000</td>\n",
       "      <td>-4079.230000</td>\n",
       "      <td>-370.240000</td>\n",
       "      <td>-2.680000</td>\n",
       "      <td>-2.680000</td>\n",
       "      <td>0.000000</td>\n",
       "      <td>0.000000</td>\n",
       "      <td>0.000000</td>\n",
       "    </tr>\n",
       "    <tr>\n",
       "      <th>25%</th>\n",
       "      <td>-542.020000</td>\n",
       "      <td>-611.220000</td>\n",
       "      <td>-5.360000</td>\n",
       "      <td>-5.680000</td>\n",
       "      <td>-0.230000</td>\n",
       "      <td>-0.010000</td>\n",
       "      <td>0.000000</td>\n",
       "      <td>0.000000</td>\n",
       "      <td>-0.040000</td>\n",
       "      <td>-0.020000</td>\n",
       "      <td>...</td>\n",
       "      <td>-5.600000</td>\n",
       "      <td>-0.190000</td>\n",
       "      <td>0.000000</td>\n",
       "      <td>0.000000</td>\n",
       "      <td>0.000000</td>\n",
       "      <td>-0.070000</td>\n",
       "      <td>0.000000</td>\n",
       "      <td>2.000000</td>\n",
       "      <td>0.000000</td>\n",
       "      <td>0.000000</td>\n",
       "    </tr>\n",
       "    <tr>\n",
       "      <th>50%</th>\n",
       "      <td>145.300000</td>\n",
       "      <td>-157.350000</td>\n",
       "      <td>-0.450000</td>\n",
       "      <td>-1.540000</td>\n",
       "      <td>0.000000</td>\n",
       "      <td>0.000000</td>\n",
       "      <td>0.000000</td>\n",
       "      <td>0.000000</td>\n",
       "      <td>0.000000</td>\n",
       "      <td>0.000000</td>\n",
       "      <td>...</td>\n",
       "      <td>-0.780000</td>\n",
       "      <td>0.000000</td>\n",
       "      <td>0.000000</td>\n",
       "      <td>0.000000</td>\n",
       "      <td>0.000000</td>\n",
       "      <td>0.000000</td>\n",
       "      <td>0.000000</td>\n",
       "      <td>12.000000</td>\n",
       "      <td>0.000000</td>\n",
       "      <td>0.000000</td>\n",
       "    </tr>\n",
       "    <tr>\n",
       "      <th>75%</th>\n",
       "      <td>896.200000</td>\n",
       "      <td>425.700000</td>\n",
       "      <td>3.940000</td>\n",
       "      <td>7.260000</td>\n",
       "      <td>0.000000</td>\n",
       "      <td>0.940000</td>\n",
       "      <td>0.000000</td>\n",
       "      <td>0.000000</td>\n",
       "      <td>0.000000</td>\n",
       "      <td>0.020000</td>\n",
       "      <td>...</td>\n",
       "      <td>7.480000</td>\n",
       "      <td>0.000000</td>\n",
       "      <td>0.540000</td>\n",
       "      <td>0.000000</td>\n",
       "      <td>0.000000</td>\n",
       "      <td>0.000000</td>\n",
       "      <td>0.030000</td>\n",
       "      <td>35.000000</td>\n",
       "      <td>1.000000</td>\n",
       "      <td>1.000000</td>\n",
       "    </tr>\n",
       "    <tr>\n",
       "      <th>max</th>\n",
       "      <td>1406.080000</td>\n",
       "      <td>1015.800000</td>\n",
       "      <td>18.470000</td>\n",
       "      <td>18.570000</td>\n",
       "      <td>1.000000</td>\n",
       "      <td>1.040000</td>\n",
       "      <td>68.560000</td>\n",
       "      <td>234.740000</td>\n",
       "      <td>2.680000</td>\n",
       "      <td>2.680000</td>\n",
       "      <td>...</td>\n",
       "      <td>18.490000</td>\n",
       "      <td>1.000000</td>\n",
       "      <td>1.040000</td>\n",
       "      <td>255.990000</td>\n",
       "      <td>57.840000</td>\n",
       "      <td>2.680000</td>\n",
       "      <td>2.680000</td>\n",
       "      <td>142.000000</td>\n",
       "      <td>64.000000</td>\n",
       "      <td>1.000000</td>\n",
       "    </tr>\n",
       "  </tbody>\n",
       "</table>\n",
       "<p>8 rows × 2401 columns</p>\n",
       "</div>"
      ],
      "text/plain": [
       "                 x1            y1         xVel1         yVel1           xA1  \\\n",
       "count  23309.000000  23309.000000  23309.000000  23309.000000  23309.000000   \n",
       "mean     104.413631    -73.481853     -0.697607      0.061480     -0.147964   \n",
       "std      843.200079    573.329374      6.427840      7.366739      0.376078   \n",
       "min    -1414.140000  -1012.180000    -18.590000    -18.410000     -1.000000   \n",
       "25%     -542.020000   -611.220000     -5.360000     -5.680000     -0.230000   \n",
       "50%      145.300000   -157.350000     -0.450000     -1.540000      0.000000   \n",
       "75%      896.200000    425.700000      3.940000      7.260000      0.000000   \n",
       "max     1406.080000   1015.800000     18.470000     18.570000      1.000000   \n",
       "\n",
       "                yA1           xS1           yS1           xC1           yC1  \\\n",
       "count  23309.000000  23309.000000  23309.000000  23309.000000  23309.000000   \n",
       "mean       0.152034     -1.055732     -0.731546     -0.034915      0.077123   \n",
       "std        0.588582     26.388570     20.684183      0.559690      0.628478   \n",
       "min       -1.000000   -944.070000   -847.910000     -2.680000     -2.680000   \n",
       "25%       -0.010000      0.000000      0.000000     -0.040000     -0.020000   \n",
       "50%        0.000000      0.000000      0.000000      0.000000      0.000000   \n",
       "75%        0.940000      0.000000      0.000000      0.000000      0.020000   \n",
       "max        1.040000     68.560000    234.740000      2.680000      2.680000   \n",
       "\n",
       "       ...       yVel200         xA200         yA200         xS200  \\\n",
       "count  ...  23309.000000  23309.000000  23309.000000  23309.000000   \n",
       "mean   ...      0.086824     -0.126276      0.127497     -1.526260   \n",
       "std    ...      7.683539      0.378830      0.570589     73.903764   \n",
       "min    ...    -18.440000     -1.040000     -1.000000  -4079.230000   \n",
       "25%    ...     -5.600000     -0.190000      0.000000      0.000000   \n",
       "50%    ...     -0.780000      0.000000      0.000000      0.000000   \n",
       "75%    ...      7.480000      0.000000      0.540000      0.000000   \n",
       "max    ...     18.490000      1.000000      1.040000    255.990000   \n",
       "\n",
       "              yS200         xC200         yC200        nAC200         nS200  \\\n",
       "count  23309.000000  23309.000000  23309.000000  23309.000000  23309.000000   \n",
       "mean      -0.118891     -0.012388      0.085076     26.433995      2.130679   \n",
       "std        7.002853      0.555143      0.614603     34.136098      7.431911   \n",
       "min     -370.240000     -2.680000     -2.680000      0.000000      0.000000   \n",
       "25%        0.000000     -0.070000      0.000000      2.000000      0.000000   \n",
       "50%        0.000000      0.000000      0.000000     12.000000      0.000000   \n",
       "75%        0.000000      0.000000      0.030000     35.000000      1.000000   \n",
       "max       57.840000      2.680000      2.680000    142.000000     64.000000   \n",
       "\n",
       "       Swarm_Behaviour  \n",
       "count     23309.000000  \n",
       "mean          0.341242  \n",
       "std           0.474136  \n",
       "min           0.000000  \n",
       "25%           0.000000  \n",
       "50%           0.000000  \n",
       "75%           1.000000  \n",
       "max           1.000000  \n",
       "\n",
       "[8 rows x 2401 columns]"
      ]
     },
     "execution_count": 6,
     "metadata": {},
     "output_type": "execute_result"
    }
   ],
   "source": [
    "df.describe()"
   ]
  },
  {
   "cell_type": "code",
   "execution_count": 7,
   "id": "baebcd19",
   "metadata": {
    "execution": {
     "iopub.execute_input": "2022-01-07T22:47:56.103999Z",
     "iopub.status.busy": "2022-01-07T22:47:56.102869Z",
     "iopub.status.idle": "2022-01-07T22:47:56.324314Z",
     "shell.execute_reply": "2022-01-07T22:47:56.323774Z",
     "shell.execute_reply.started": "2022-01-07T20:54:06.106322Z"
    },
    "papermill": {
     "duration": 0.256237,
     "end_time": "2022-01-07T22:47:56.324454",
     "exception": false,
     "start_time": "2022-01-07T22:47:56.068217",
     "status": "completed"
    },
    "tags": []
   },
   "outputs": [
    {
     "name": "stderr",
     "output_type": "stream",
     "text": [
      "/opt/conda/lib/python3.7/site-packages/seaborn/_decorators.py:43: FutureWarning: Pass the following variable as a keyword arg: x. From version 0.12, the only valid positional argument will be `data`, and passing other arguments without an explicit keyword will result in an error or misinterpretation.\n",
      "  FutureWarning\n"
     ]
    },
    {
     "data": {
      "text/plain": [
       "<AxesSubplot:xlabel='Swarm_Behaviour', ylabel='count'>"
      ]
     },
     "execution_count": 7,
     "metadata": {},
     "output_type": "execute_result"
    },
    {
     "data": {
      "image/png": "[encoded data removed]",
      "text/plain": [
       "<Figure size 432x288 with 1 Axes>"
      ]
     },
     "metadata": {
      "needs_background": "light"
     },
     "output_type": "display_data"
    }
   ],
   "source": [
    "\n",
    "sns.countplot(df[\"Swarm_Behaviour\"])"
   ]
  },
  {
   "cell_type": "markdown",
   "id": "0219b493",
   "metadata": {
    "papermill": {
     "duration": 0.031732,
     "end_time": "2022-01-07T22:47:56.388081",
     "exception": false,
     "start_time": "2022-01-07T22:47:56.356349",
     "status": "completed"
    },
    "tags": []
   },
   "source": [
    "**the  observation in the first class is higher than the observation in the second classe then there exists an imbalance.Class Imbalance is a common problem in machine learning, especially in classification problems.Imbalance data can hamper our model accuracy big time. so we need to deal with this problem.**"
   ]
  },
  {
   "cell_type": "code",
   "execution_count": 8,
   "id": "0064a893",
   "metadata": {
    "execution": {
     "iopub.execute_input": "2022-01-07T22:47:56.459616Z",
     "iopub.status.busy": "2022-01-07T22:47:56.454200Z",
     "iopub.status.idle": "2022-01-07T22:47:56.655330Z",
     "shell.execute_reply": "2022-01-07T22:47:56.654713Z",
     "shell.execute_reply.started": "2022-01-07T20:54:06.359597Z"
    },
    "papermill": {
     "duration": 0.235897,
     "end_time": "2022-01-07T22:47:56.655475",
     "exception": false,
     "start_time": "2022-01-07T22:47:56.419578",
     "status": "completed"
    },
    "tags": []
   },
   "outputs": [
    {
     "name": "stdout",
     "output_type": "stream",
     "text": [
      "class 0: (15355, 2401)\n",
      "class 1: (7954, 2401)\n"
     ]
    }
   ],
   "source": [
    "# class count\n",
    "class_count_0, class_count_1 = df['Swarm_Behaviour'].value_counts()\n",
    "\n",
    "# Separate class\n",
    "class_0 = df[df['Swarm_Behaviour'] == 0]\n",
    "class_1 = df[df['Swarm_Behaviour'] == 1]\n",
    "\n",
    "# print the shape of the class\n",
    "print('class 0:', class_0.shape)\n",
    "print('class 1:', class_1.shape)"
   ]
  },
  {
   "cell_type": "markdown",
   "id": "48d07c22",
   "metadata": {
    "papermill": {
     "duration": 0.031662,
     "end_time": "2022-01-07T22:47:56.719045",
     "exception": false,
     "start_time": "2022-01-07T22:47:56.687383",
     "status": "completed"
    },
    "tags": []
   },
   "source": [
    "# **Resampling Technique**"
   ]
  },
  {
   "cell_type": "markdown",
   "id": "0c6d6bba",
   "metadata": {
    "papermill": {
     "duration": 0.031548,
     "end_time": "2022-01-07T22:47:56.782371",
     "exception": false,
     "start_time": "2022-01-07T22:47:56.750823",
     "status": "completed"
    },
    "tags": []
   },
   "source": [
    "**A widely adopted technique for dealing with highly unbalanced datasets is called resampling. It consists of removing samples from the majority class (under-sampling) and/or adding more examples from the minority class (over-sampling).**"
   ]
  },
  {
   "cell_type": "markdown",
   "id": "7e047878",
   "metadata": {
    "papermill": {
     "duration": 0.031492,
     "end_time": "2022-01-07T22:47:56.845871",
     "exception": false,
     "start_time": "2022-01-07T22:47:56.814379",
     "status": "completed"
    },
    "tags": []
   },
   "source": [
    "# **1. Random Under-Sampling**"
   ]
  },
  {
   "cell_type": "markdown",
   "id": "e275757d",
   "metadata": {
    "papermill": {
     "duration": 0.031646,
     "end_time": "2022-01-07T22:47:56.909352",
     "exception": false,
     "start_time": "2022-01-07T22:47:56.877706",
     "status": "completed"
    },
    "tags": []
   },
   "source": [
    "**Undersampling can be defined as removing some observations of the majority class. This is done until the majority and minority class is balanced out.But we can remove pertinent information.**\n"
   ]
  },
  {
   "cell_type": "code",
   "execution_count": 9,
   "id": "cda68874",
   "metadata": {
    "execution": {
     "iopub.execute_input": "2022-01-07T22:47:57.072794Z",
     "iopub.status.busy": "2022-01-07T22:47:56.980868Z",
     "iopub.status.idle": "2022-01-07T22:47:57.531413Z",
     "shell.execute_reply": "2022-01-07T22:47:57.530903Z",
     "shell.execute_reply.started": "2022-01-07T20:54:06.603148Z"
    },
    "papermill": {
     "duration": 0.590182,
     "end_time": "2022-01-07T22:47:57.531552",
     "exception": false,
     "start_time": "2022-01-07T22:47:56.941370",
     "status": "completed"
    },
    "tags": []
   },
   "outputs": [
    {
     "name": "stdout",
     "output_type": "stream",
     "text": [
      "total class of 1 and 0: 0.0    7954\n",
      "1.0    7954\n",
      "Name: Swarm_Behaviour, dtype: int64\n"
     ]
    },
    {
     "data": {
      "text/plain": [
       "<AxesSubplot:title={'center':'count (target)'}>"
      ]
     },
     "execution_count": 9,
     "metadata": {},
     "output_type": "execute_result"
    },
    {
     "data": {
      "image/png": "[encoded data removed]",
      "text/plain": [
       "<Figure size 432x288 with 1 Axes>"
      ]
     },
     "metadata": {
      "needs_background": "light"
     },
     "output_type": "display_data"
    }
   ],
   "source": [
    "class_0_under = class_0.sample(class_count_1)\n",
    "\n",
    "test_under = pd.concat([class_0_under, class_1], axis=0)\n",
    "\n",
    "print(\"total class of 1 and 0:\",test_under['Swarm_Behaviour'].value_counts())# plot the count after under-sampeling\n",
    "test_under['Swarm_Behaviour'].value_counts().plot(kind='bar', title='count (target)')"
   ]
  },
  {
   "cell_type": "markdown",
   "id": "a8770f4a",
   "metadata": {
    "papermill": {
     "duration": 0.033319,
     "end_time": "2022-01-07T22:47:57.598728",
     "exception": false,
     "start_time": "2022-01-07T22:47:57.565409",
     "status": "completed"
    },
    "tags": []
   },
   "source": [
    "# **2. Random Over-Sampling**"
   ]
  },
  {
   "cell_type": "markdown",
   "id": "9495ee48",
   "metadata": {
    "papermill": {
     "duration": 0.035914,
     "end_time": "2022-01-07T22:47:57.668127",
     "exception": false,
     "start_time": "2022-01-07T22:47:57.632213",
     "status": "completed"
    },
    "tags": []
   },
   "source": [
    "**Oversampling can be defined as adding more copies to the minority class.**"
   ]
  },
  {
   "cell_type": "code",
   "execution_count": 10,
   "id": "9e71c93b",
   "metadata": {
    "execution": {
     "iopub.execute_input": "2022-01-07T22:47:57.739618Z",
     "iopub.status.busy": "2022-01-07T22:47:57.738574Z",
     "iopub.status.idle": "2022-01-07T22:47:58.854816Z",
     "shell.execute_reply": "2022-01-07T22:47:58.855261Z",
     "shell.execute_reply.started": "2022-01-07T20:54:07.194564Z"
    },
    "papermill": {
     "duration": 1.153397,
     "end_time": "2022-01-07T22:47:58.855438",
     "exception": false,
     "start_time": "2022-01-07T22:47:57.702041",
     "status": "completed"
    },
    "tags": []
   },
   "outputs": [
    {
     "name": "stdout",
     "output_type": "stream",
     "text": [
      "total class of 1 and 0: 0.0    7954\n",
      "1.0    7954\n",
      "Name: Swarm_Behaviour, dtype: int64\n",
      "total class of 1 and 0 after under-sampeling: 1.0    15355\n",
      "0.0    15355\n",
      "Name: Swarm_Behaviour, dtype: int64\n"
     ]
    },
    {
     "data": {
      "image/png": "[encoded data removed]",
      "text/plain": [
       "<Figure size 432x288 with 1 Axes>"
      ]
     },
     "metadata": {
      "needs_background": "light"
     },
     "output_type": "display_data"
    }
   ],
   "source": [
    "class_1_over = class_1.sample(class_count_0, replace=True)\n",
    "\n",
    "test_over = pd.concat([class_1_over, class_0], axis=0)\n",
    "\n",
    "print(\"total class of 1 and 0:\",test_under['Swarm_Behaviour'].value_counts())\n",
    "# plot the count after under-sampeling\n",
    "test_over['Swarm_Behaviour'].value_counts().plot(kind='bar', title='count (target)')\n",
    "print(\"total class of 1 and 0 after under-sampeling:\",test_over['Swarm_Behaviour'].value_counts())"
   ]
  },
  {
   "cell_type": "markdown",
   "id": "07d9e529",
   "metadata": {
    "papermill": {
     "duration": 0.034016,
     "end_time": "2022-01-07T22:47:58.923721",
     "exception": false,
     "start_time": "2022-01-07T22:47:58.889705",
     "status": "completed"
    },
    "tags": []
   },
   "source": [
    "# **3. Random under-sampling with imblearn**"
   ]
  },
  {
   "cell_type": "markdown",
   "id": "890d8e31",
   "metadata": {
    "papermill": {
     "duration": 0.033957,
     "end_time": "2022-01-07T22:47:58.992095",
     "exception": false,
     "start_time": "2022-01-07T22:47:58.958138",
     "status": "completed"
    },
    "tags": []
   },
   "source": [
    "**RandomUnderSampler is a fast and easy way to balance the data by randomly selecting a subset of data for the targeted classes. Under-sample the majority class(es) by randomly picking samples with or without replacement.**"
   ]
  },
  {
   "cell_type": "code",
   "execution_count": 11,
   "id": "23d7238f",
   "metadata": {
    "execution": {
     "iopub.execute_input": "2022-01-07T22:47:59.251062Z",
     "iopub.status.busy": "2022-01-07T22:47:59.250080Z",
     "iopub.status.idle": "2022-01-07T22:47:59.688310Z",
     "shell.execute_reply": "2022-01-07T22:47:59.688821Z",
     "shell.execute_reply.started": "2022-01-07T20:54:08.263001Z"
    },
    "papermill": {
     "duration": 0.662742,
     "end_time": "2022-01-07T22:47:59.689004",
     "exception": false,
     "start_time": "2022-01-07T22:47:59.026262",
     "status": "completed"
    },
    "tags": []
   },
   "outputs": [],
   "source": [
    "from sklearn.model_selection import train_test_split\n",
    "X = df.drop(columns = 'Swarm_Behaviour', axis=1)\n",
    "Y = df['Swarm_Behaviour']\n",
    "X_train, X_test, Y_train, Y_test = train_test_split(X, Y, test_size = 0.3, stratify=Y, random_state=2)"
   ]
  },
  {
   "cell_type": "code",
   "execution_count": 12,
   "id": "1b2a9140",
   "metadata": {
    "execution": {
     "iopub.execute_input": "2022-01-07T22:47:59.761970Z",
     "iopub.status.busy": "2022-01-07T22:47:59.761000Z",
     "iopub.status.idle": "2022-01-07T22:48:01.170381Z",
     "shell.execute_reply": "2022-01-07T22:48:01.170940Z",
     "shell.execute_reply.started": "2022-01-07T20:54:26.646662Z"
    },
    "papermill": {
     "duration": 1.447665,
     "end_time": "2022-01-07T22:48:01.171122",
     "exception": false,
     "start_time": "2022-01-07T22:47:59.723457",
     "status": "completed"
    },
    "tags": []
   },
   "outputs": [
    {
     "name": "stdout",
     "output_type": "stream",
     "text": [
      "original dataset shape: Counter({'x1': 1, 'y1': 1, 'xVel1': 1, 'yVel1': 1, 'xA1': 1, 'yA1': 1, 'xS1': 1, 'yS1': 1, 'xC1': 1, 'yC1': 1, 'nAC1': 1, 'nS1': 1, 'x2': 1, 'y2': 1, 'xVel2': 1, 'yVel2': 1, 'xA2': 1, 'yA2': 1, 'xS2': 1, 'yS2': 1, 'xC2': 1, 'yC2': 1, 'nAC2': 1, 'nS2': 1, 'x3': 1, 'y3': 1, 'xVel3': 1, 'yVel3': 1, 'xA3': 1, 'yA3': 1, 'xS3': 1, 'yS3': 1, 'xC3': 1, 'yC3': 1, 'nAC3': 1, 'nS3': 1, 'x4': 1, 'y4': 1, 'xVel4': 1, 'yVel4': 1, 'xA4': 1, 'yA4': 1, 'xS4': 1, 'yS4': 1, 'xC4': 1, 'yC4': 1, 'nAC4': 1, 'nS4': 1, 'x5': 1, 'y5': 1, 'xVel5': 1, 'yVel5': 1, 'xA5': 1, 'yA5': 1, 'xS5': 1, 'yS5': 1, 'xC5': 1, 'yC5': 1, 'nAC5': 1, 'nS5': 1, 'x6': 1, 'y6': 1, 'xVel6': 1, 'yVel6': 1, 'xA6': 1, 'yA6': 1, 'xS6': 1, 'yS6': 1, 'xC6': 1, 'yC6': 1, 'nAC6': 1, 'nS6': 1, 'x7': 1, 'y7': 1, 'xVel7': 1, 'yVel7': 1, 'xA7': 1, 'yA7': 1, 'xS7': 1, 'yS7': 1, 'xC7': 1, 'yC7': 1, 'nAC7': 1, 'nS7': 1, 'x8': 1, 'y8': 1, 'xVel8': 1, 'yVel8': 1, 'xA8': 1, 'yA8': 1, 'xS8': 1, 'yS8': 1, 'xC8': 1, 'yC8': 1, 'nAC8': 1, 'nS8': 1, 'x9': 1, 'y9': 1, 'xVel9': 1, 'yVel9': 1, 'xA9': 1, 'yA9': 1, 'xS9': 1, 'yS9': 1, 'xC9': 1, 'yC9': 1, 'nAC9': 1, 'nS9': 1, 'x10': 1, 'y10': 1, 'xVel10': 1, 'yVel10': 1, 'xA10': 1, 'yA10': 1, 'xS10': 1, 'yS10': 1, 'xC10': 1, 'yC10': 1, 'nAC10': 1, 'nS10': 1, 'x11': 1, 'y11': 1, 'xVel11': 1, 'yVel11': 1, 'xA11': 1, 'yA11': 1, 'xS11': 1, 'yS11': 1, 'xC11': 1, 'yC11': 1, 'nAC11': 1, 'nS11': 1, 'x12': 1, 'y12': 1, 'xVel12': 1, 'yVel12': 1, 'xA12': 1, 'yA12': 1, 'xS12': 1, 'yS12': 1, 'xC12': 1, 'yC12': 1, 'nAC12': 1, 'nS12': 1, 'x13': 1, 'y13': 1, 'xVel13': 1, 'yVel13': 1, 'xA13': 1, 'yA13': 1, 'xS13': 1, 'yS13': 1, 'xC13': 1, 'yC13': 1, 'nAC13': 1, 'nS13': 1, 'x14': 1, 'y14': 1, 'xVel14': 1, 'yVel14': 1, 'xA14': 1, 'yA14': 1, 'xS14': 1, 'yS14': 1, 'xC14': 1, 'yC14': 1, 'nAC14': 1, 'nS14': 1, 'x15': 1, 'y15': 1, 'xVel15': 1, 'yVel15': 1, 'xA15': 1, 'yA15': 1, 'xS15': 1, 'yS15': 1, 'xC15': 1, 'yC15': 1, 'nAC15': 1, 'nS15': 1, 'x16': 1, 'y16': 1, 'xVel16': 1, 'yVel16': 1, 'xA16': 1, 'yA16': 1, 'xS16': 1, 'yS16': 1, 'xC16': 1, 'yC16': 1, 'nAC16': 1, 'nS16': 1, 'x17': 1, 'y17': 1, 'xVel17': 1, 'yVel17': 1, 'xA17': 1, 'yA17': 1, 'xS17': 1, 'yS17': 1, 'xC17': 1, 'yC17': 1, 'nAC17': 1, 'nS17': 1, 'x18': 1, 'y18': 1, 'xVel18': 1, 'yVel18': 1, 'xA18': 1, 'yA18': 1, 'xS18': 1, 'yS18': 1, 'xC18': 1, 'yC18': 1, 'nAC18': 1, 'nS18': 1, 'x19': 1, 'y19': 1, 'xVel19': 1, 'yVel19': 1, 'xA19': 1, 'yA19': 1, 'xS19': 1, 'yS19': 1, 'xC19': 1, 'yC19': 1, 'nAC19': 1, 'nS19': 1, 'x20': 1, 'y20': 1, 'xVel20': 1, 'yVel20': 1, 'xA20': 1, 'yA20': 1, 'xS20': 1, 'yS20': 1, 'xC20': 1, 'yC20': 1, 'nAC20': 1, 'nS20': 1, 'x21': 1, 'y21': 1, 'xVel21': 1, 'yVel21': 1, 'xA21': 1, 'yA21': 1, 'xS21': 1, 'yS21': 1, 'xC21': 1, 'yC21': 1, 'nAC21': 1, 'nS21': 1, 'x22': 1, 'y22': 1, 'xVel22': 1, 'yVel22': 1, 'xA22': 1, 'yA22': 1, 'xS22': 1, 'yS22': 1, 'xC22': 1, 'yC22': 1, 'nAC22': 1, 'nS22': 1, 'x23': 1, 'y23': 1, 'xVel23': 1, 'yVel23': 1, 'xA23': 1, 'yA23': 1, 'xS23': 1, 'yS23': 1, 'xC23': 1, 'yC23': 1, 'nAC23': 1, 'nS23': 1, 'x24': 1, 'y24': 1, 'xVel24': 1, 'yVel24': 1, 'xA24': 1, 'yA24': 1, 'xS24': 1, 'yS24': 1, 'xC24': 1, 'yC24': 1, 'nAC24': 1, 'nS24': 1, 'x25': 1, 'y25': 1, 'xVel25': 1, 'yVel25': 1, 'xA25': 1, 'yA25': 1, 'xS25': 1, 'yS25': 1, 'xC25': 1, 'yC25': 1, 'nAC25': 1, 'nS25': 1, 'x26': 1, 'y26': 1, 'xVel26': 1, 'yVel26': 1, 'xA26': 1, 'yA26': 1, 'xS26': 1, 'yS26': 1, 'xC26': 1, 'yC26': 1, 'nAC26': 1, 'nS26': 1, 'x27': 1, 'y27': 1, 'xVel27': 1, 'yVel27': 1, 'xA27': 1, 'yA27': 1, 'xS27': 1, 'yS27': 1, 'xC27': 1, 'yC27': 1, 'nAC27': 1, 'nS27': 1, 'x28': 1, 'y28': 1, 'xVel28': 1, 'yVel28': 1, 'xA28': 1, 'yA28': 1, 'xS28': 1, 'yS28': 1, 'xC28': 1, 'yC28': 1, 'nAC28': 1, 'nS28': 1, 'x29': 1, 'y29': 1, 'xVel29': 1, 'yVel29': 1, 'xA29': 1, 'yA29': 1, 'xS29': 1, 'yS29': 1, 'xC29': 1, 'yC29': 1, 'nAC29': 1, 'nS29': 1, 'x30': 1, 'y30': 1, 'xVel30': 1, 'yVel30': 1, 'xA30': 1, 'yA30': 1, 'xS30': 1, 'yS30': 1, 'xC30': 1, 'yC30': 1, 'nAC30': 1, 'nS30': 1, 'x31': 1, 'y31': 1, 'xVel31': 1, 'yVel31': 1, 'xA31': 1, 'yA31': 1, 'xS31': 1, 'yS31': 1, 'xC31': 1, 'yC31': 1, 'nAC31': 1, 'nS31': 1, 'x32': 1, 'y32': 1, 'xVel32': 1, 'yVel32': 1, 'xA32': 1, 'yA32': 1, 'xS32': 1, 'yS32': 1, 'xC32': 1, 'yC32': 1, 'nAC32': 1, 'nS32': 1, 'x33': 1, 'y33': 1, 'xVel33': 1, 'yVel33': 1, 'xA33': 1, 'yA33': 1, 'xS33': 1, 'yS33': 1, 'xC33': 1, 'yC33': 1, 'nAC33': 1, 'nS33': 1, 'x34': 1, 'y34': 1, 'xVel34': 1, 'yVel34': 1, 'xA34': 1, 'yA34': 1, 'xS34': 1, 'yS34': 1, 'xC34': 1, 'yC34': 1, 'nAC34': 1, 'nS34': 1, 'x35': 1, 'y35': 1, 'xVel35': 1, 'yVel35': 1, 'xA35': 1, 'yA35': 1, 'xS35': 1, 'yS35': 1, 'xC35': 1, 'yC35': 1, 'nAC35': 1, 'nS35': 1, 'x36': 1, 'y36': 1, 'xVel36': 1, 'yVel36': 1, 'xA36': 1, 'yA36': 1, 'xS36': 1, 'yS36': 1, 'xC36': 1, 'yC36': 1, 'nAC36': 1, 'nS36': 1, 'x37': 1, 'y37': 1, 'xVel37': 1, 'yVel37': 1, 'xA37': 1, 'yA37': 1, 'xS37': 1, 'yS37': 1, 'xC37': 1, 'yC37': 1, 'nAC37': 1, 'nS37': 1, 'x38': 1, 'y38': 1, 'xVel38': 1, 'yVel38': 1, 'xA38': 1, 'yA38': 1, 'xS38': 1, 'yS38': 1, 'xC38': 1, 'yC38': 1, 'nAC38': 1, 'nS38': 1, 'x39': 1, 'y39': 1, 'xVel39': 1, 'yVel39': 1, 'xA39': 1, 'yA39': 1, 'xS39': 1, 'yS39': 1, 'xC39': 1, 'yC39': 1, 'nAC39': 1, 'nS39': 1, 'x40': 1, 'y40': 1, 'xVel40': 1, 'yVel40': 1, 'xA40': 1, 'yA40': 1, 'xS40': 1, 'yS40': 1, 'xC40': 1, 'yC40': 1, 'nAC40': 1, 'nS40': 1, 'x41': 1, 'y41': 1, 'xVel41': 1, 'yVel41': 1, 'xA41': 1, 'yA41': 1, 'xS41': 1, 'yS41': 1, 'xC41': 1, 'yC41': 1, 'nAC41': 1, 'nS41': 1, 'x42': 1, 'y42': 1, 'xVel42': 1, 'yVel42': 1, 'xA42': 1, 'yA42': 1, 'xS42': 1, 'yS42': 1, 'xC42': 1, 'yC42': 1, 'nAC42': 1, 'nS42': 1, 'x43': 1, 'y43': 1, 'xVel43': 1, 'yVel43': 1, 'xA43': 1, 'yA43': 1, 'xS43': 1, 'yS43': 1, 'xC43': 1, 'yC43': 1, 'nAC43': 1, 'nS43': 1, 'x44': 1, 'y44': 1, 'xVel44': 1, 'yVel44': 1, 'xA44': 1, 'yA44': 1, 'xS44': 1, 'yS44': 1, 'xC44': 1, 'yC44': 1, 'nAC44': 1, 'nS44': 1, 'x45': 1, 'y45': 1, 'xVel45': 1, 'yVel45': 1, 'xA45': 1, 'yA45': 1, 'xS45': 1, 'yS45': 1, 'xC45': 1, 'yC45': 1, 'nAC45': 1, 'nS45': 1, 'x46': 1, 'y46': 1, 'xVel46': 1, 'yVel46': 1, 'xA46': 1, 'yA46': 1, 'xS46': 1, 'yS46': 1, 'xC46': 1, 'yC46': 1, 'nAC46': 1, 'nS46': 1, 'x47': 1, 'y47': 1, 'xVel47': 1, 'yVel47': 1, 'xA47': 1, 'yA47': 1, 'xS47': 1, 'yS47': 1, 'xC47': 1, 'yC47': 1, 'nAC47': 1, 'nS47': 1, 'x48': 1, 'y48': 1, 'xVel48': 1, 'yVel48': 1, 'xA48': 1, 'yA48': 1, 'xS48': 1, 'yS48': 1, 'xC48': 1, 'yC48': 1, 'nAC48': 1, 'nS48': 1, 'x49': 1, 'y49': 1, 'xVel49': 1, 'yVel49': 1, 'xA49': 1, 'yA49': 1, 'xS49': 1, 'yS49': 1, 'xC49': 1, 'yC49': 1, 'nAC49': 1, 'nS49': 1, 'x50': 1, 'y50': 1, 'xVel50': 1, 'yVel50': 1, 'xA50': 1, 'yA50': 1, 'xS50': 1, 'yS50': 1, 'xC50': 1, 'yC50': 1, 'nAC50': 1, 'nS50': 1, 'x51': 1, 'y51': 1, 'xVel51': 1, 'yVel51': 1, 'xA51': 1, 'yA51': 1, 'xS51': 1, 'yS51': 1, 'xC51': 1, 'yC51': 1, 'nAC51': 1, 'nS51': 1, 'x52': 1, 'y52': 1, 'xVel52': 1, 'yVel52': 1, 'xA52': 1, 'yA52': 1, 'xS52': 1, 'yS52': 1, 'xC52': 1, 'yC52': 1, 'nAC52': 1, 'nS52': 1, 'x53': 1, 'y53': 1, 'xVel53': 1, 'yVel53': 1, 'xA53': 1, 'yA53': 1, 'xS53': 1, 'yS53': 1, 'xC53': 1, 'yC53': 1, 'nAC53': 1, 'nS53': 1, 'x54': 1, 'y54': 1, 'xVel54': 1, 'yVel54': 1, 'xA54': 1, 'yA54': 1, 'xS54': 1, 'yS54': 1, 'xC54': 1, 'yC54': 1, 'nAC54': 1, 'nS54': 1, 'x55': 1, 'y55': 1, 'xVel55': 1, 'yVel55': 1, 'xA55': 1, 'yA55': 1, 'xS55': 1, 'yS55': 1, 'xC55': 1, 'yC55': 1, 'nAC55': 1, 'nS55': 1, 'x56': 1, 'y56': 1, 'xVel56': 1, 'yVel56': 1, 'xA56': 1, 'yA56': 1, 'xS56': 1, 'yS56': 1, 'xC56': 1, 'yC56': 1, 'nAC56': 1, 'nS56': 1, 'x57': 1, 'y57': 1, 'xVel57': 1, 'yVel57': 1, 'xA57': 1, 'yA57': 1, 'xS57': 1, 'yS57': 1, 'xC57': 1, 'yC57': 1, 'nAC57': 1, 'nS57': 1, 'x58': 1, 'y58': 1, 'xVel58': 1, 'yVel58': 1, 'xA58': 1, 'yA58': 1, 'xS58': 1, 'yS58': 1, 'xC58': 1, 'yC58': 1, 'nAC58': 1, 'nS58': 1, 'x59': 1, 'y59': 1, 'xVel59': 1, 'yVel59': 1, 'xA59': 1, 'yA59': 1, 'xS59': 1, 'yS59': 1, 'xC59': 1, 'yC59': 1, 'nAC59': 1, 'nS59': 1, 'x60': 1, 'y60': 1, 'xVel60': 1, 'yVel60': 1, 'xA60': 1, 'yA60': 1, 'xS60': 1, 'yS60': 1, 'xC60': 1, 'yC60': 1, 'nAC60': 1, 'nS60': 1, 'x61': 1, 'y61': 1, 'xVel61': 1, 'yVel61': 1, 'xA61': 1, 'yA61': 1, 'xS61': 1, 'yS61': 1, 'xC61': 1, 'yC61': 1, 'nAC61': 1, 'nS61': 1, 'x62': 1, 'y62': 1, 'xVel62': 1, 'yVel62': 1, 'xA62': 1, 'yA62': 1, 'xS62': 1, 'yS62': 1, 'xC62': 1, 'yC62': 1, 'nAC62': 1, 'nS62': 1, 'x63': 1, 'y63': 1, 'xVel63': 1, 'yVel63': 1, 'xA63': 1, 'yA63': 1, 'xS63': 1, 'yS63': 1, 'xC63': 1, 'yC63': 1, 'nAC63': 1, 'nS63': 1, 'x64': 1, 'y64': 1, 'xVel64': 1, 'yVel64': 1, 'xA64': 1, 'yA64': 1, 'xS64': 1, 'yS64': 1, 'xC64': 1, 'yC64': 1, 'nAC64': 1, 'nS64': 1, 'x65': 1, 'y65': 1, 'xVel65': 1, 'yVel65': 1, 'xA65': 1, 'yA65': 1, 'xS65': 1, 'yS65': 1, 'xC65': 1, 'yC65': 1, 'nAC65': 1, 'nS65': 1, 'x66': 1, 'y66': 1, 'xVel66': 1, 'yVel66': 1, 'xA66': 1, 'yA66': 1, 'xS66': 1, 'yS66': 1, 'xC66': 1, 'yC66': 1, 'nAC66': 1, 'nS66': 1, 'x67': 1, 'y67': 1, 'xVel67': 1, 'yVel67': 1, 'xA67': 1, 'yA67': 1, 'xS67': 1, 'yS67': 1, 'xC67': 1, 'yC67': 1, 'nAC67': 1, 'nS67': 1, 'x68': 1, 'y68': 1, 'xVel68': 1, 'yVel68': 1, 'xA68': 1, 'yA68': 1, 'xS68': 1, 'yS68': 1, 'xC68': 1, 'yC68': 1, 'nAC68': 1, 'nS68': 1, 'x69': 1, 'y69': 1, 'xVel69': 1, 'yVel69': 1, 'xA69': 1, 'yA69': 1, 'xS69': 1, 'yS69': 1, 'xC69': 1, 'yC69': 1, 'nAC69': 1, 'nS69': 1, 'x70': 1, 'y70': 1, 'xVel70': 1, 'yVel70': 1, 'xA70': 1, 'yA70': 1, 'xS70': 1, 'yS70': 1, 'xC70': 1, 'yC70': 1, 'nAC70': 1, 'nS70': 1, 'x71': 1, 'y71': 1, 'xVel71': 1, 'yVel71': 1, 'xA71': 1, 'yA71': 1, 'xS71': 1, 'yS71': 1, 'xC71': 1, 'yC71': 1, 'nAC71': 1, 'nS71': 1, 'x72': 1, 'y72': 1, 'xVel72': 1, 'yVel72': 1, 'xA72': 1, 'yA72': 1, 'xS72': 1, 'yS72': 1, 'xC72': 1, 'yC72': 1, 'nAC72': 1, 'nS72': 1, 'x73': 1, 'y73': 1, 'xVel73': 1, 'yVel73': 1, 'xA73': 1, 'yA73': 1, 'xS73': 1, 'yS73': 1, 'xC73': 1, 'yC73': 1, 'nAC73': 1, 'nS73': 1, 'x74': 1, 'y74': 1, 'xVel74': 1, 'yVel74': 1, 'xA74': 1, 'yA74': 1, 'xS74': 1, 'yS74': 1, 'xC74': 1, 'yC74': 1, 'nAC74': 1, 'nS74': 1, 'x75': 1, 'y75': 1, 'xVel75': 1, 'yVel75': 1, 'xA75': 1, 'yA75': 1, 'xS75': 1, 'yS75': 1, 'xC75': 1, 'yC75': 1, 'nAC75': 1, 'nS75': 1, 'x76': 1, 'y76': 1, 'xVel76': 1, 'yVel76': 1, 'xA76': 1, 'yA76': 1, 'xS76': 1, 'yS76': 1, 'xC76': 1, 'yC76': 1, 'nAC76': 1, 'nS76': 1, 'x77': 1, 'y77': 1, 'xVel77': 1, 'yVel77': 1, 'xA77': 1, 'yA77': 1, 'xS77': 1, 'yS77': 1, 'xC77': 1, 'yC77': 1, 'nAC77': 1, 'nS77': 1, 'x78': 1, 'y78': 1, 'xVel78': 1, 'yVel78': 1, 'xA78': 1, 'yA78': 1, 'xS78': 1, 'yS78': 1, 'xC78': 1, 'yC78': 1, 'nAC78': 1, 'nS78': 1, 'x79': 1, 'y79': 1, 'xVel79': 1, 'yVel79': 1, 'xA79': 1, 'yA79': 1, 'xS79': 1, 'yS79': 1, 'xC79': 1, 'yC79': 1, 'nAC79': 1, 'nS79': 1, 'x80': 1, 'y80': 1, 'xVel80': 1, 'yVel80': 1, 'xA80': 1, 'yA80': 1, 'xS80': 1, 'yS80': 1, 'xC80': 1, 'yC80': 1, 'nAC80': 1, 'nS80': 1, 'x81': 1, 'y81': 1, 'xVel81': 1, 'yVel81': 1, 'xA81': 1, 'yA81': 1, 'xS81': 1, 'yS81': 1, 'xC81': 1, 'yC81': 1, 'nAC81': 1, 'nS81': 1, 'x82': 1, 'y82': 1, 'xVel82': 1, 'yVel82': 1, 'xA82': 1, 'yA82': 1, 'xS82': 1, 'yS82': 1, 'xC82': 1, 'yC82': 1, 'nAC82': 1, 'nS82': 1, 'x83': 1, 'y83': 1, 'xVel83': 1, 'yVel83': 1, 'xA83': 1, 'yA83': 1, 'xS83': 1, 'yS83': 1, 'xC83': 1, 'yC83': 1, 'nAC83': 1, 'nS83': 1, 'x84': 1, 'y84': 1, 'xVel84': 1, 'yVel84': 1, 'xA84': 1, 'yA84': 1, 'xS84': 1, 'yS84': 1, 'xC84': 1, 'yC84': 1, 'nAC84': 1, 'nS84': 1, 'x85': 1, 'y85': 1, 'xVel85': 1, 'yVel85': 1, 'xA85': 1, 'yA85': 1, 'xS85': 1, 'yS85': 1, 'xC85': 1, 'yC85': 1, 'nAC85': 1, 'nS85': 1, 'x86': 1, 'y86': 1, 'xVel86': 1, 'yVel86': 1, 'xA86': 1, 'yA86': 1, 'xS86': 1, 'yS86': 1, 'xC86': 1, 'yC86': 1, 'nAC86': 1, 'nS86': 1, 'x87': 1, 'y87': 1, 'xVel87': 1, 'yVel87': 1, 'xA87': 1, 'yA87': 1, 'xS87': 1, 'yS87': 1, 'xC87': 1, 'yC87': 1, 'nAC87': 1, 'nS87': 1, 'x88': 1, 'y88': 1, 'xVel88': 1, 'yVel88': 1, 'xA88': 1, 'yA88': 1, 'xS88': 1, 'yS88': 1, 'xC88': 1, 'yC88': 1, 'nAC88': 1, 'nS88': 1, 'x89': 1, 'y89': 1, 'xVel89': 1, 'yVel89': 1, 'xA89': 1, 'yA89': 1, 'xS89': 1, 'yS89': 1, 'xC89': 1, 'yC89': 1, 'nAC89': 1, 'nS89': 1, 'x90': 1, 'y90': 1, 'xVel90': 1, 'yVel90': 1, 'xA90': 1, 'yA90': 1, 'xS90': 1, 'yS90': 1, 'xC90': 1, 'yC90': 1, 'nAC90': 1, 'nS90': 1, 'x91': 1, 'y91': 1, 'xVel91': 1, 'yVel91': 1, 'xA91': 1, 'yA91': 1, 'xS91': 1, 'yS91': 1, 'xC91': 1, 'yC91': 1, 'nAC91': 1, 'nS91': 1, 'x92': 1, 'y92': 1, 'xVel92': 1, 'yVel92': 1, 'xA92': 1, 'yA92': 1, 'xS92': 1, 'yS92': 1, 'xC92': 1, 'yC92': 1, 'nAC92': 1, 'nS92': 1, 'x93': 1, 'y93': 1, 'xVel93': 1, 'yVel93': 1, 'xA93': 1, 'yA93': 1, 'xS93': 1, 'yS93': 1, 'xC93': 1, 'yC93': 1, 'nAC93': 1, 'nS93': 1, 'x94': 1, 'y94': 1, 'xVel94': 1, 'yVel94': 1, 'xA94': 1, 'yA94': 1, 'xS94': 1, 'yS94': 1, 'xC94': 1, 'yC94': 1, 'nAC94': 1, 'nS94': 1, 'x95': 1, 'y95': 1, 'xVel95': 1, 'yVel95': 1, 'xA95': 1, 'yA95': 1, 'xS95': 1, 'yS95': 1, 'xC95': 1, 'yC95': 1, 'nAC95': 1, 'nS95': 1, 'x96': 1, 'y96': 1, 'xVel96': 1, 'yVel96': 1, 'xA96': 1, 'yA96': 1, 'xS96': 1, 'yS96': 1, 'xC96': 1, 'yC96': 1, 'nAC96': 1, 'nS96': 1, 'x97': 1, 'y97': 1, 'xVel97': 1, 'yVel97': 1, 'xA97': 1, 'yA97': 1, 'xS97': 1, 'yS97': 1, 'xC97': 1, 'yC97': 1, 'nAC97': 1, 'nS97': 1, 'x98': 1, 'y98': 1, 'xVel98': 1, 'yVel98': 1, 'xA98': 1, 'yA98': 1, 'xS98': 1, 'yS98': 1, 'xC98': 1, 'yC98': 1, 'nAC98': 1, 'nS98': 1, 'x99': 1, 'y99': 1, 'xVel99': 1, 'yVel99': 1, 'xA99': 1, 'yA99': 1, 'xS99': 1, 'yS99': 1, 'xC99': 1, 'yC99': 1, 'nAC99': 1, 'nS99': 1, 'x100': 1, 'y100': 1, 'xVel100': 1, 'yVel100': 1, 'xA100': 1, 'yA100': 1, 'xS100': 1, 'yS100': 1, 'xC100': 1, 'yC100': 1, 'nAC100': 1, 'nS100': 1, 'x101': 1, 'y101': 1, 'xVel101': 1, 'yVel101': 1, 'xA101': 1, 'yA101': 1, 'xS101': 1, 'yS101': 1, 'xC101': 1, 'yC101': 1, 'nAC101': 1, 'nS101': 1, 'x102': 1, 'y102': 1, 'xVel102': 1, 'yVel102': 1, 'xA102': 1, 'yA102': 1, 'xS102': 1, 'yS102': 1, 'xC102': 1, 'yC102': 1, 'nAC102': 1, 'nS102': 1, 'x103': 1, 'y103': 1, 'xVel103': 1, 'yVel103': 1, 'xA103': 1, 'yA103': 1, 'xS103': 1, 'yS103': 1, 'xC103': 1, 'yC103': 1, 'nAC103': 1, 'nS103': 1, 'x104': 1, 'y104': 1, 'xVel104': 1, 'yVel104': 1, 'xA104': 1, 'yA104': 1, 'xS104': 1, 'yS104': 1, 'xC104': 1, 'yC104': 1, 'nAC104': 1, 'nS104': 1, 'x105': 1, 'y105': 1, 'xVel105': 1, 'yVel105': 1, 'xA105': 1, 'yA105': 1, 'xS105': 1, 'yS105': 1, 'xC105': 1, 'yC105': 1, 'nAC105': 1, 'nS105': 1, 'x106': 1, 'y106': 1, 'xVel106': 1, 'yVel106': 1, 'xA106': 1, 'yA106': 1, 'xS106': 1, 'yS106': 1, 'xC106': 1, 'yC106': 1, 'nAC106': 1, 'nS106': 1, 'x107': 1, 'y107': 1, 'xVel107': 1, 'yVel107': 1, 'xA107': 1, 'yA107': 1, 'xS107': 1, 'yS107': 1, 'xC107': 1, 'yC107': 1, 'nAC107': 1, 'nS107': 1, 'x108': 1, 'y108': 1, 'xVel108': 1, 'yVel108': 1, 'xA108': 1, 'yA108': 1, 'xS108': 1, 'yS108': 1, 'xC108': 1, 'yC108': 1, 'nAC108': 1, 'nS108': 1, 'x109': 1, 'y109': 1, 'xVel109': 1, 'yVel109': 1, 'xA109': 1, 'yA109': 1, 'xS109': 1, 'yS109': 1, 'xC109': 1, 'yC109': 1, 'nAC109': 1, 'nS109': 1, 'x110': 1, 'y110': 1, 'xVel110': 1, 'yVel110': 1, 'xA110': 1, 'yA110': 1, 'xS110': 1, 'yS110': 1, 'xC110': 1, 'yC110': 1, 'nAC110': 1, 'nS110': 1, 'x111': 1, 'y111': 1, 'xVel111': 1, 'yVel111': 1, 'xA111': 1, 'yA111': 1, 'xS111': 1, 'yS111': 1, 'xC111': 1, 'yC111': 1, 'nAC111': 1, 'nS111': 1, 'x112': 1, 'y112': 1, 'xVel112': 1, 'yVel112': 1, 'xA112': 1, 'yA112': 1, 'xS112': 1, 'yS112': 1, 'xC112': 1, 'yC112': 1, 'nAC112': 1, 'nS112': 1, 'x113': 1, 'y113': 1, 'xVel113': 1, 'yVel113': 1, 'xA113': 1, 'yA113': 1, 'xS113': 1, 'yS113': 1, 'xC113': 1, 'yC113': 1, 'nAC113': 1, 'nS113': 1, 'x114': 1, 'y114': 1, 'xVel114': 1, 'yVel114': 1, 'xA114': 1, 'yA114': 1, 'xS114': 1, 'yS114': 1, 'xC114': 1, 'yC114': 1, 'nAC114': 1, 'nS114': 1, 'x115': 1, 'y115': 1, 'xVel115': 1, 'yVel115': 1, 'xA115': 1, 'yA115': 1, 'xS115': 1, 'yS115': 1, 'xC115': 1, 'yC115': 1, 'nAC115': 1, 'nS115': 1, 'x116': 1, 'y116': 1, 'xVel116': 1, 'yVel116': 1, 'xA116': 1, 'yA116': 1, 'xS116': 1, 'yS116': 1, 'xC116': 1, 'yC116': 1, 'nAC116': 1, 'nS116': 1, 'x117': 1, 'y117': 1, 'xVel117': 1, 'yVel117': 1, 'xA117': 1, 'yA117': 1, 'xS117': 1, 'yS117': 1, 'xC117': 1, 'yC117': 1, 'nAC117': 1, 'nS117': 1, 'x118': 1, 'y118': 1, 'xVel118': 1, 'yVel118': 1, 'xA118': 1, 'yA118': 1, 'xS118': 1, 'yS118': 1, 'xC118': 1, 'yC118': 1, 'nAC118': 1, 'nS118': 1, 'x119': 1, 'y119': 1, 'xVel119': 1, 'yVel119': 1, 'xA119': 1, 'yA119': 1, 'xS119': 1, 'yS119': 1, 'xC119': 1, 'yC119': 1, 'nAC119': 1, 'nS119': 1, 'x120': 1, 'y120': 1, 'xVel120': 1, 'yVel120': 1, 'xA120': 1, 'yA120': 1, 'xS120': 1, 'yS120': 1, 'xC120': 1, 'yC120': 1, 'nAC120': 1, 'nS120': 1, 'x121': 1, 'y121': 1, 'xVel121': 1, 'yVel121': 1, 'xA121': 1, 'yA121': 1, 'xS121': 1, 'yS121': 1, 'xC121': 1, 'yC121': 1, 'nAC121': 1, 'nS121': 1, 'x122': 1, 'y122': 1, 'xVel122': 1, 'yVel122': 1, 'xA122': 1, 'yA122': 1, 'xS122': 1, 'yS122': 1, 'xC122': 1, 'yC122': 1, 'nAC122': 1, 'nS122': 1, 'x123': 1, 'y123': 1, 'xVel123': 1, 'yVel123': 1, 'xA123': 1, 'yA123': 1, 'xS123': 1, 'yS123': 1, 'xC123': 1, 'yC123': 1, 'nAC123': 1, 'nS123': 1, 'x124': 1, 'y124': 1, 'xVel124': 1, 'yVel124': 1, 'xA124': 1, 'yA124': 1, 'xS124': 1, 'yS124': 1, 'xC124': 1, 'yC124': 1, 'nAC124': 1, 'nS124': 1, 'x125': 1, 'y125': 1, 'xVel125': 1, 'yVel125': 1, 'xA125': 1, 'yA125': 1, 'xS125': 1, 'yS125': 1, 'xC125': 1, 'yC125': 1, 'nAC125': 1, 'nS125': 1, 'x126': 1, 'y126': 1, 'xVel126': 1, 'yVel126': 1, 'xA126': 1, 'yA126': 1, 'xS126': 1, 'yS126': 1, 'xC126': 1, 'yC126': 1, 'nAC126': 1, 'nS126': 1, 'x127': 1, 'y127': 1, 'xVel127': 1, 'yVel127': 1, 'xA127': 1, 'yA127': 1, 'xS127': 1, 'yS127': 1, 'xC127': 1, 'yC127': 1, 'nAC127': 1, 'nS127': 1, 'x128': 1, 'y128': 1, 'xVel128': 1, 'yVel128': 1, 'xA128': 1, 'yA128': 1, 'xS128': 1, 'yS128': 1, 'xC128': 1, 'yC128': 1, 'nAC128': 1, 'nS128': 1, 'x129': 1, 'y129': 1, 'xVel129': 1, 'yVel129': 1, 'xA129': 1, 'yA129': 1, 'xS129': 1, 'yS129': 1, 'xC129': 1, 'yC129': 1, 'nAC129': 1, 'nS129': 1, 'x130': 1, 'y130': 1, 'xVel130': 1, 'yVel130': 1, 'xA130': 1, 'yA130': 1, 'xS130': 1, 'yS130': 1, 'xC130': 1, 'yC130': 1, 'nAC130': 1, 'nS130': 1, 'x131': 1, 'y131': 1, 'xVel131': 1, 'yVel131': 1, 'xA131': 1, 'yA131': 1, 'xS131': 1, 'yS131': 1, 'xC131': 1, 'yC131': 1, 'nAC131': 1, 'nS131': 1, 'x132': 1, 'y132': 1, 'xVel132': 1, 'yVel132': 1, 'xA132': 1, 'yA132': 1, 'xS132': 1, 'yS132': 1, 'xC132': 1, 'yC132': 1, 'nAC132': 1, 'nS132': 1, 'x133': 1, 'y133': 1, 'xVel133': 1, 'yVel133': 1, 'xA133': 1, 'yA133': 1, 'xS133': 1, 'yS133': 1, 'xC133': 1, 'yC133': 1, 'nAC133': 1, 'nS133': 1, 'x134': 1, 'y134': 1, 'xVel134': 1, 'yVel134': 1, 'xA134': 1, 'yA134': 1, 'xS134': 1, 'yS134': 1, 'xC134': 1, 'yC134': 1, 'nAC134': 1, 'nS134': 1, 'x135': 1, 'y135': 1, 'xVel135': 1, 'yVel135': 1, 'xA135': 1, 'yA135': 1, 'xS135': 1, 'yS135': 1, 'xC135': 1, 'yC135': 1, 'nAC135': 1, 'nS135': 1, 'x136': 1, 'y136': 1, 'xVel136': 1, 'yVel136': 1, 'xA136': 1, 'yA136': 1, 'xS136': 1, 'yS136': 1, 'xC136': 1, 'yC136': 1, 'nAC136': 1, 'nS136': 1, 'x137': 1, 'y137': 1, 'xVel137': 1, 'yVel137': 1, 'xA137': 1, 'yA137': 1, 'xS137': 1, 'yS137': 1, 'xC137': 1, 'yC137': 1, 'nAC137': 1, 'nS137': 1, 'x138': 1, 'y138': 1, 'xVel138': 1, 'yVel138': 1, 'xA138': 1, 'yA138': 1, 'xS138': 1, 'yS138': 1, 'xC138': 1, 'yC138': 1, 'nAC138': 1, 'nS138': 1, 'x139': 1, 'y139': 1, 'xVel139': 1, 'yVel139': 1, 'xA139': 1, 'yA139': 1, 'xS139': 1, 'yS139': 1, 'xC139': 1, 'yC139': 1, 'nAC139': 1, 'nS139': 1, 'x140': 1, 'y140': 1, 'xVel140': 1, 'yVel140': 1, 'xA140': 1, 'yA140': 1, 'xS140': 1, 'yS140': 1, 'xC140': 1, 'yC140': 1, 'nAC140': 1, 'nS140': 1, 'x141': 1, 'y141': 1, 'xVel141': 1, 'yVel141': 1, 'xA141': 1, 'yA141': 1, 'xS141': 1, 'yS141': 1, 'xC141': 1, 'yC141': 1, 'nAC141': 1, 'nS141': 1, 'x142': 1, 'y142': 1, 'xVel142': 1, 'yVel142': 1, 'xA142': 1, 'yA142': 1, 'xS142': 1, 'yS142': 1, 'xC142': 1, 'yC142': 1, 'nAC142': 1, 'nS142': 1, 'x143': 1, 'y143': 1, 'xVel143': 1, 'yVel143': 1, 'xA143': 1, 'yA143': 1, 'xS143': 1, 'yS143': 1, 'xC143': 1, 'yC143': 1, 'nAC143': 1, 'nS143': 1, 'x144': 1, 'y144': 1, 'xVel144': 1, 'yVel144': 1, 'xA144': 1, 'yA144': 1, 'xS144': 1, 'yS144': 1, 'xC144': 1, 'yC144': 1, 'nAC144': 1, 'nS144': 1, 'x145': 1, 'y145': 1, 'xVel145': 1, 'yVel145': 1, 'xA145': 1, 'yA145': 1, 'xS145': 1, 'yS145': 1, 'xC145': 1, 'yC145': 1, 'nAC145': 1, 'nS145': 1, 'x146': 1, 'y146': 1, 'xVel146': 1, 'yVel146': 1, 'xA146': 1, 'yA146': 1, 'xS146': 1, 'yS146': 1, 'xC146': 1, 'yC146': 1, 'nAC146': 1, 'nS146': 1, 'x147': 1, 'y147': 1, 'xVel147': 1, 'yVel147': 1, 'xA147': 1, 'yA147': 1, 'xS147': 1, 'yS147': 1, 'xC147': 1, 'yC147': 1, 'nAC147': 1, 'nS147': 1, 'x148': 1, 'y148': 1, 'xVel148': 1, 'yVel148': 1, 'xA148': 1, 'yA148': 1, 'xS148': 1, 'yS148': 1, 'xC148': 1, 'yC148': 1, 'nAC148': 1, 'nS148': 1, 'x149': 1, 'y149': 1, 'xVel149': 1, 'yVel149': 1, 'xA149': 1, 'yA149': 1, 'xS149': 1, 'yS149': 1, 'xC149': 1, 'yC149': 1, 'nAC149': 1, 'nS149': 1, 'x150': 1, 'y150': 1, 'xVel150': 1, 'yVel150': 1, 'xA150': 1, 'yA150': 1, 'xS150': 1, 'yS150': 1, 'xC150': 1, 'yC150': 1, 'nAC150': 1, 'nS150': 1, 'x151': 1, 'y151': 1, 'xVel151': 1, 'yVel151': 1, 'xA151': 1, 'yA151': 1, 'xS151': 1, 'yS151': 1, 'xC151': 1, 'yC151': 1, 'nAC151': 1, 'nS151': 1, 'x152': 1, 'y152': 1, 'xVel152': 1, 'yVel152': 1, 'xA152': 1, 'yA152': 1, 'xS152': 1, 'yS152': 1, 'xC152': 1, 'yC152': 1, 'nAC152': 1, 'nS152': 1, 'x153': 1, 'y153': 1, 'xVel153': 1, 'yVel153': 1, 'xA153': 1, 'yA153': 1, 'xS153': 1, 'yS153': 1, 'xC153': 1, 'yC153': 1, 'nAC153': 1, 'nS153': 1, 'x154': 1, 'y154': 1, 'xVel154': 1, 'yVel154': 1, 'xA154': 1, 'yA154': 1, 'xS154': 1, 'yS154': 1, 'xC154': 1, 'yC154': 1, 'nAC154': 1, 'nS154': 1, 'x155': 1, 'y155': 1, 'xVel155': 1, 'yVel155': 1, 'xA155': 1, 'yA155': 1, 'xS155': 1, 'yS155': 1, 'xC155': 1, 'yC155': 1, 'nAC155': 1, 'nS155': 1, 'x156': 1, 'y156': 1, 'xVel156': 1, 'yVel156': 1, 'xA156': 1, 'yA156': 1, 'xS156': 1, 'yS156': 1, 'xC156': 1, 'yC156': 1, 'nAC156': 1, 'nS156': 1, 'x157': 1, 'y157': 1, 'xVel157': 1, 'yVel157': 1, 'xA157': 1, 'yA157': 1, 'xS157': 1, 'yS157': 1, 'xC157': 1, 'yC157': 1, 'nAC157': 1, 'nS157': 1, 'x158': 1, 'y158': 1, 'xVel158': 1, 'yVel158': 1, 'xA158': 1, 'yA158': 1, 'xS158': 1, 'yS158': 1, 'xC158': 1, 'yC158': 1, 'nAC158': 1, 'nS158': 1, 'x159': 1, 'y159': 1, 'xVel159': 1, 'yVel159': 1, 'xA159': 1, 'yA159': 1, 'xS159': 1, 'yS159': 1, 'xC159': 1, 'yC159': 1, 'nAC159': 1, 'nS159': 1, 'x160': 1, 'y160': 1, 'xVel160': 1, 'yVel160': 1, 'xA160': 1, 'yA160': 1, 'xS160': 1, 'yS160': 1, 'xC160': 1, 'yC160': 1, 'nAC160': 1, 'nS160': 1, 'x161': 1, 'y161': 1, 'xVel161': 1, 'yVel161': 1, 'xA161': 1, 'yA161': 1, 'xS161': 1, 'yS161': 1, 'xC161': 1, 'yC161': 1, 'nAC161': 1, 'nS161': 1, 'x162': 1, 'y162': 1, 'xVel162': 1, 'yVel162': 1, 'xA162': 1, 'yA162': 1, 'xS162': 1, 'yS162': 1, 'xC162': 1, 'yC162': 1, 'nAC162': 1, 'nS162': 1, 'x163': 1, 'y163': 1, 'xVel163': 1, 'yVel163': 1, 'xA163': 1, 'yA163': 1, 'xS163': 1, 'yS163': 1, 'xC163': 1, 'yC163': 1, 'nAC163': 1, 'nS163': 1, 'x164': 1, 'y164': 1, 'xVel164': 1, 'yVel164': 1, 'xA164': 1, 'yA164': 1, 'xS164': 1, 'yS164': 1, 'xC164': 1, 'yC164': 1, 'nAC164': 1, 'nS164': 1, 'x165': 1, 'y165': 1, 'xVel165': 1, 'yVel165': 1, 'xA165': 1, 'yA165': 1, 'xS165': 1, 'yS165': 1, 'xC165': 1, 'yC165': 1, 'nAC165': 1, 'nS165': 1, 'x166': 1, 'y166': 1, 'xVel166': 1, 'yVel166': 1, 'xA166': 1, 'yA166': 1, 'xS166': 1, 'yS166': 1, 'xC166': 1, 'yC166': 1, 'nAC166': 1, 'nS166': 1, 'x167': 1, 'y167': 1, 'xVel167': 1, 'yVel167': 1, 'xA167': 1, 'yA167': 1, 'xS167': 1, 'yS167': 1, 'xC167': 1, 'yC167': 1, 'nAC167': 1, 'nS167': 1, 'x168': 1, 'y168': 1, 'xVel168': 1, 'yVel168': 1, 'xA168': 1, 'yA168': 1, 'xS168': 1, 'yS168': 1, 'xC168': 1, 'yC168': 1, 'nAC168': 1, 'nS168': 1, 'x169': 1, 'y169': 1, 'xVel169': 1, 'yVel169': 1, 'xA169': 1, 'yA169': 1, 'xS169': 1, 'yS169': 1, 'xC169': 1, 'yC169': 1, 'nAC169': 1, 'nS169': 1, 'x170': 1, 'y170': 1, 'xVel170': 1, 'yVel170': 1, 'xA170': 1, 'yA170': 1, 'xS170': 1, 'yS170': 1, 'xC170': 1, 'yC170': 1, 'nAC170': 1, 'nS170': 1, 'x171': 1, 'y171': 1, 'xVel171': 1, 'yVel171': 1, 'xA171': 1, 'yA171': 1, 'xS171': 1, 'yS171': 1, 'xC171': 1, 'yC171': 1, 'nAC171': 1, 'nS171': 1, 'x172': 1, 'y172': 1, 'xVel172': 1, 'yVel172': 1, 'xA172': 1, 'yA172': 1, 'xS172': 1, 'yS172': 1, 'xC172': 1, 'yC172': 1, 'nAC172': 1, 'nS172': 1, 'x173': 1, 'y173': 1, 'xVel173': 1, 'yVel173': 1, 'xA173': 1, 'yA173': 1, 'xS173': 1, 'yS173': 1, 'xC173': 1, 'yC173': 1, 'nAC173': 1, 'nS173': 1, 'x174': 1, 'y174': 1, 'xVel174': 1, 'yVel174': 1, 'xA174': 1, 'yA174': 1, 'xS174': 1, 'yS174': 1, 'xC174': 1, 'yC174': 1, 'nAC174': 1, 'nS174': 1, 'x175': 1, 'y175': 1, 'xVel175': 1, 'yVel175': 1, 'xA175': 1, 'yA175': 1, 'xS175': 1, 'yS175': 1, 'xC175': 1, 'yC175': 1, 'nAC175': 1, 'nS175': 1, 'x176': 1, 'y176': 1, 'xVel176': 1, 'yVel176': 1, 'xA176': 1, 'yA176': 1, 'xS176': 1, 'yS176': 1, 'xC176': 1, 'yC176': 1, 'nAC176': 1, 'nS176': 1, 'x177': 1, 'y177': 1, 'xVel177': 1, 'yVel177': 1, 'xA177': 1, 'yA177': 1, 'xS177': 1, 'yS177': 1, 'xC177': 1, 'yC177': 1, 'nAC177': 1, 'nS177': 1, 'x178': 1, 'y178': 1, 'xVel178': 1, 'yVel178': 1, 'xA178': 1, 'yA178': 1, 'xS178': 1, 'yS178': 1, 'xC178': 1, 'yC178': 1, 'nAC178': 1, 'nS178': 1, 'x179': 1, 'y179': 1, 'xVel179': 1, 'yVel179': 1, 'xA179': 1, 'yA179': 1, 'xS179': 1, 'yS179': 1, 'xC179': 1, 'yC179': 1, 'nAC179': 1, 'nS179': 1, 'x180': 1, 'y180': 1, 'xVel180': 1, 'yVel180': 1, 'xA180': 1, 'yA180': 1, 'xS180': 1, 'yS180': 1, 'xC180': 1, 'yC180': 1, 'nAC180': 1, 'nS180': 1, 'x181': 1, 'y181': 1, 'xVel181': 1, 'yVel181': 1, 'xA181': 1, 'yA181': 1, 'xS181': 1, 'yS181': 1, 'xC181': 1, 'yC181': 1, 'nAC181': 1, 'nS181': 1, 'x182': 1, 'y182': 1, 'xVel182': 1, 'yVel182': 1, 'xA182': 1, 'yA182': 1, 'xS182': 1, 'yS182': 1, 'xC182': 1, 'yC182': 1, 'nAC182': 1, 'nS182': 1, 'x183': 1, 'y183': 1, 'xVel183': 1, 'yVel183': 1, 'xA183': 1, 'yA183': 1, 'xS183': 1, 'yS183': 1, 'xC183': 1, 'yC183': 1, 'nAC183': 1, 'nS183': 1, 'x184': 1, 'y184': 1, 'xVel184': 1, 'yVel184': 1, 'xA184': 1, 'yA184': 1, 'xS184': 1, 'yS184': 1, 'xC184': 1, 'yC184': 1, 'nAC184': 1, 'nS184': 1, 'x185': 1, 'y185': 1, 'xVel185': 1, 'yVel185': 1, 'xA185': 1, 'yA185': 1, 'xS185': 1, 'yS185': 1, 'xC185': 1, 'yC185': 1, 'nAC185': 1, 'nS185': 1, 'x186': 1, 'y186': 1, 'xVel186': 1, 'yVel186': 1, 'xA186': 1, 'yA186': 1, 'xS186': 1, 'yS186': 1, 'xC186': 1, 'yC186': 1, 'nAC186': 1, 'nS186': 1, 'x187': 1, 'y187': 1, 'xVel187': 1, 'yVel187': 1, 'xA187': 1, 'yA187': 1, 'xS187': 1, 'yS187': 1, 'xC187': 1, 'yC187': 1, 'nAC187': 1, 'nS187': 1, 'x188': 1, 'y188': 1, 'xVel188': 1, 'yVel188': 1, 'xA188': 1, 'yA188': 1, 'xS188': 1, 'yS188': 1, 'xC188': 1, 'yC188': 1, 'nAC188': 1, 'nS188': 1, 'x189': 1, 'y189': 1, 'xVel189': 1, 'yVel189': 1, 'xA189': 1, 'yA189': 1, 'xS189': 1, 'yS189': 1, 'xC189': 1, 'yC189': 1, 'nAC189': 1, 'nS189': 1, 'x190': 1, 'y190': 1, 'xVel190': 1, 'yVel190': 1, 'xA190': 1, 'yA190': 1, 'xS190': 1, 'yS190': 1, 'xC190': 1, 'yC190': 1, 'nAC190': 1, 'nS190': 1, 'x191': 1, 'y191': 1, 'xVel191': 1, 'yVel191': 1, 'xA191': 1, 'yA191': 1, 'xS191': 1, 'yS191': 1, 'xC191': 1, 'yC191': 1, 'nAC191': 1, 'nS191': 1, 'x192': 1, 'y192': 1, 'xVel192': 1, 'yVel192': 1, 'xA192': 1, 'yA192': 1, 'xS192': 1, 'yS192': 1, 'xC192': 1, 'yC192': 1, 'nAC192': 1, 'nS192': 1, 'x193': 1, 'y193': 1, 'xVel193': 1, 'yVel193': 1, 'xA193': 1, 'yA193': 1, 'xS193': 1, 'yS193': 1, 'xC193': 1, 'yC193': 1, 'nAC193': 1, 'nS193': 1, 'x194': 1, 'y194': 1, 'xVel194': 1, 'yVel194': 1, 'xA194': 1, 'yA194': 1, 'xS194': 1, 'yS194': 1, 'xC194': 1, 'yC194': 1, 'nAC194': 1, 'nS194': 1, 'x195': 1, 'y195': 1, 'xVel195': 1, 'yVel195': 1, 'xA195': 1, 'yA195': 1, 'xS195': 1, 'yS195': 1, 'xC195': 1, 'yC195': 1, 'nAC195': 1, 'nS195': 1, 'x196': 1, 'y196': 1, 'xVel196': 1, 'yVel196': 1, 'xA196': 1, 'yA196': 1, 'xS196': 1, 'yS196': 1, 'xC196': 1, 'yC196': 1, 'nAC196': 1, 'nS196': 1, 'x197': 1, 'y197': 1, 'xVel197': 1, 'yVel197': 1, 'xA197': 1, 'yA197': 1, 'xS197': 1, 'yS197': 1, 'xC197': 1, 'yC197': 1, 'nAC197': 1, 'nS197': 1, 'x198': 1, 'y198': 1, 'xVel198': 1, 'yVel198': 1, 'xA198': 1, 'yA198': 1, 'xS198': 1, 'yS198': 1, 'xC198': 1, 'yC198': 1, 'nAC198': 1, 'nS198': 1, 'x199': 1, 'y199': 1, 'xVel199': 1, 'yVel199': 1, 'xA199': 1, 'yA199': 1, 'xS199': 1, 'yS199': 1, 'xC199': 1, 'yC199': 1, 'nAC199': 1, 'nS199': 1, 'x200': 1, 'y200': 1, 'xVel200': 1, 'yVel200': 1, 'xA200': 1, 'yA200': 1, 'xS200': 1, 'yS200': 1, 'xC200': 1, 'yC200': 1, 'nAC200': 1, 'nS200': 1})\n",
      "Resample dataset shape Counter({0.0: 7954, 1.0: 7954})\n"
     ]
    }
   ],
   "source": [
    "# import library\n",
    "from imblearn.under_sampling import RandomUnderSampler\n",
    "from collections import Counter\n",
    "\n",
    "RandomUnderSampler = RandomUnderSampler(random_state=42, replacement=True)# fit predictor and target variable\n",
    "x_RandomUnderSampler, y_RandomUnderSampler = RandomUnderSampler.fit_resample(X, Y)\n",
    "\n",
    "print('original dataset shape:', Counter(X))\n",
    "print('Resample dataset shape', Counter(y_RandomUnderSampler))"
   ]
  },
  {
   "cell_type": "markdown",
   "id": "b7a40089",
   "metadata": {
    "papermill": {
     "duration": 0.035599,
     "end_time": "2022-01-07T22:48:01.242380",
     "exception": false,
     "start_time": "2022-01-07T22:48:01.206781",
     "status": "completed"
    },
    "tags": []
   },
   "source": [
    "# **4. Random over-sampling with imblearn**"
   ]
  },
  {
   "cell_type": "markdown",
   "id": "12612837",
   "metadata": {
    "papermill": {
     "duration": 0.034756,
     "end_time": "2022-01-07T22:48:01.312344",
     "exception": false,
     "start_time": "2022-01-07T22:48:01.277588",
     "status": "completed"
    },
    "tags": []
   },
   "source": [
    "**One other way to fight imbalance data is to generate new samples in the minority classes. The most naive strategy is to generate new samples by randomly sampling with replacement of the currently available samples.**"
   ]
  },
  {
   "cell_type": "code",
   "execution_count": 13,
   "id": "0c3ff0c8",
   "metadata": {
    "execution": {
     "iopub.execute_input": "2022-01-07T22:48:01.386831Z",
     "iopub.status.busy": "2022-01-07T22:48:01.385851Z",
     "iopub.status.idle": "2022-01-07T22:48:03.633282Z",
     "shell.execute_reply": "2022-01-07T22:48:03.632637Z",
     "shell.execute_reply.started": "2022-01-07T20:54:40.104143Z"
    },
    "papermill": {
     "duration": 2.285989,
     "end_time": "2022-01-07T22:48:03.633420",
     "exception": false,
     "start_time": "2022-01-07T22:48:01.347431",
     "status": "completed"
    },
    "tags": []
   },
   "outputs": [
    {
     "name": "stdout",
     "output_type": "stream",
     "text": [
      "Original dataset shape Counter({0.0: 15355, 1.0: 7954})\n",
      "Resample dataset shape Counter({0.0: 15355, 1.0: 15355})\n"
     ]
    }
   ],
   "source": [
    "# import library\n",
    "from imblearn.over_sampling import RandomOverSampler\n",
    "\n",
    "RandomOverSampler = RandomOverSampler(random_state=42)\n",
    "\n",
    "# fit predictor and target variable \n",
    "x_RandomOverSampler, y_RandomOverSampler = RandomOverSampler.fit_resample(X, Y)\n",
    "\n",
    "print('Original dataset shape', Counter(Y))\n",
    "print('Resample dataset shape', Counter(y_RandomOverSampler))"
   ]
  },
  {
   "cell_type": "markdown",
   "id": "2e5d278a",
   "metadata": {
    "papermill": {
     "duration": 0.037563,
     "end_time": "2022-01-07T22:48:03.708542",
     "exception": false,
     "start_time": "2022-01-07T22:48:03.670979",
     "status": "completed"
    },
    "tags": []
   },
   "source": [
    "# **5. Under-sampling: Tomek links**"
   ]
  },
  {
   "cell_type": "markdown",
   "id": "e21635c6",
   "metadata": {
    "papermill": {
     "duration": 0.035212,
     "end_time": "2022-01-07T22:48:03.781907",
     "exception": false,
     "start_time": "2022-01-07T22:48:03.746695",
     "status": "completed"
    },
    "tags": []
   },
   "source": [
    "**Tomek links are pairs of very close instances but of opposite classes. Removing the instances of the majority class of each pair increases the space between the two classes, facilitating the classification process.**"
   ]
  },
  {
   "cell_type": "code",
   "execution_count": 14,
   "id": "197b1fa4",
   "metadata": {
    "execution": {
     "iopub.execute_input": "2022-01-07T22:48:03.857252Z",
     "iopub.status.busy": "2022-01-07T22:48:03.856171Z",
     "iopub.status.idle": "2022-01-07T23:11:31.921949Z",
     "shell.execute_reply": "2022-01-07T23:11:31.922461Z",
     "shell.execute_reply.started": "2022-01-07T20:54:52.434907Z"
    },
    "papermill": {
     "duration": 1408.105197,
     "end_time": "2022-01-07T23:11:31.922672",
     "exception": false,
     "start_time": "2022-01-07T22:48:03.817475",
     "status": "completed"
    },
    "tags": []
   },
   "outputs": [
    {
     "name": "stdout",
     "output_type": "stream",
     "text": [
      "Original dataset shape Counter({0.0: 15355, 1.0: 7954})\n",
      "Resample dataset shape Counter({0.0: 15121, 1.0: 7954})\n"
     ]
    }
   ],
   "source": [
    "# import library\n",
    "from imblearn.under_sampling import TomekLinks\n",
    "\n",
    "tl = TomekLinks()\n",
    "# fit predictor and target variable\n",
    "x_tl, y_tl = tl.fit_resample(X, Y)\n",
    "\n",
    "print('Original dataset shape', Counter(Y))\n",
    "print('Resample dataset shape', Counter(y_tl))"
   ]
  },
  {
   "cell_type": "markdown",
   "id": "cbbf3450",
   "metadata": {
    "papermill": {
     "duration": 0.036018,
     "end_time": "2022-01-07T23:11:31.995474",
     "exception": false,
     "start_time": "2022-01-07T23:11:31.959456",
     "status": "completed"
    },
    "tags": []
   },
   "source": [
    "# **6. Synthetic Minority Oversampling Technique (SMOTE)**"
   ]
  },
  {
   "cell_type": "markdown",
   "id": "ed69eab7",
   "metadata": {
    "papermill": {
     "duration": 0.03644,
     "end_time": "2022-01-07T23:11:32.068948",
     "exception": false,
     "start_time": "2022-01-07T23:11:32.032508",
     "status": "completed"
    },
    "tags": []
   },
   "source": [
    "**SMOTE (Synthetic Minority Oversampling Technique) works by randomly picking a point from the minority class and computing the k-nearest neighbors for this point. The synthetic points are added between the chosen point and its neighbors.(NB: this method take a lots of time)** "
   ]
  },
  {
   "cell_type": "markdown",
   "id": "44109ce6",
   "metadata": {
    "papermill": {
     "duration": 0.037571,
     "end_time": "2022-01-07T23:11:32.144758",
     "exception": false,
     "start_time": "2022-01-07T23:11:32.107187",
     "status": "completed"
    },
    "tags": []
   },
   "source": [
    "**SMOTE algorithm works in 4 simple steps:**\n",
    "\n",
    "**1. Choose a minority class as the input vector**\n",
    "\n",
    "**2. Find its k nearest neighbors (k_neighbors is specified as an argument in the SMOTE() function)**\n",
    "\n",
    "**3. Choose one of these neighbors and place a synthetic point anywhere on the line joining the point under consideration and its chosen neighbor**\n",
    "\n",
    "**4. Repeat the steps until data is balanced**"
   ]
  },
  {
   "cell_type": "code",
   "execution_count": 15,
   "id": "9a65ea5d",
   "metadata": {
    "execution": {
     "iopub.execute_input": "2022-01-07T23:11:32.230167Z",
     "iopub.status.busy": "2022-01-07T23:11:32.229156Z",
     "iopub.status.idle": "2022-01-07T23:14:57.339751Z",
     "shell.execute_reply": "2022-01-07T23:14:57.340336Z",
     "shell.execute_reply.started": "2022-01-07T20:54:09.069940Z"
    },
    "papermill": {
     "duration": 205.15726,
     "end_time": "2022-01-07T23:14:57.340711",
     "exception": false,
     "start_time": "2022-01-07T23:11:32.183451",
     "status": "completed"
    },
    "tags": []
   },
   "outputs": [
    {
     "name": "stdout",
     "output_type": "stream",
     "text": [
      "Original dataset shape Counter({0.0: 15355, 1.0: 7954})\n",
      "Resample dataset shape Counter({0.0: 15355, 1.0: 15355})\n"
     ]
    }
   ],
   "source": [
    "# import library\n",
    "from imblearn.over_sampling import SMOTE\n",
    "\n",
    "smote = SMOTE()\n",
    "\n",
    "# fit predictor and target variable\n",
    "x_smote, y_smote = smote.fit_resample(X, Y)\n",
    "\n",
    "print('Original dataset shape', Counter(Y))\n",
    "print('Resample dataset shape', Counter(y_smote))"
   ]
  },
  {
   "cell_type": "markdown",
   "id": "f584e9ad",
   "metadata": {
    "papermill": {
     "duration": 0.035959,
     "end_time": "2022-01-07T23:14:57.413217",
     "exception": false,
     "start_time": "2022-01-07T23:14:57.377258",
     "status": "completed"
    },
    "tags": []
   },
   "source": [
    "# **7. NearMiss**"
   ]
  },
  {
   "cell_type": "markdown",
   "id": "655f9d31",
   "metadata": {
    "papermill": {
     "duration": 0.035966,
     "end_time": "2022-01-07T23:14:57.485744",
     "exception": false,
     "start_time": "2022-01-07T23:14:57.449778",
     "status": "completed"
    },
    "tags": []
   },
   "source": [
    "**NearMiss is an under-sampling technique. Instead of resampling the Minority class, using a distance, this will make the majority class equal to the minority class.**"
   ]
  },
  {
   "cell_type": "code",
   "execution_count": 16,
   "id": "e3c9ddc1",
   "metadata": {
    "execution": {
     "iopub.execute_input": "2022-01-07T23:14:57.562939Z",
     "iopub.status.busy": "2022-01-07T23:14:57.561970Z",
     "iopub.status.idle": "2022-01-07T23:27:07.865366Z",
     "shell.execute_reply": "2022-01-07T23:27:07.865909Z",
     "shell.execute_reply.started": "2022-01-07T20:54:09.072233Z"
    },
    "papermill": {
     "duration": 730.34397,
     "end_time": "2022-01-07T23:27:07.866093",
     "exception": false,
     "start_time": "2022-01-07T23:14:57.522123",
     "status": "completed"
    },
    "tags": []
   },
   "outputs": [
    {
     "name": "stdout",
     "output_type": "stream",
     "text": [
      "Original dataset shape: Counter({0.0: 15355, 1.0: 7954})\n",
      "Resample dataset shape: Counter({0.0: 7954, 1.0: 7954})\n"
     ]
    }
   ],
   "source": [
    "from imblearn.under_sampling import NearMiss\n",
    "\n",
    "nm = NearMiss()\n",
    "\n",
    "x_nm, y_nm = nm.fit_resample(X, Y)\n",
    "\n",
    "print('Original dataset shape:', Counter(Y))\n",
    "print('Resample dataset shape:', Counter(y_nm))"
   ]
  },
  {
   "cell_type": "markdown",
   "id": "1e32b51e",
   "metadata": {
    "papermill": {
     "duration": 0.036612,
     "end_time": "2022-01-07T23:27:07.939662",
     "exception": false,
     "start_time": "2022-01-07T23:27:07.903050",
     "status": "completed"
    },
    "tags": []
   },
   "source": [
    "# **8. Change the performance metric**"
   ]
  },
  {
   "cell_type": "markdown",
   "id": "7ef2e067",
   "metadata": {
    "papermill": {
     "duration": 0.037344,
     "end_time": "2022-01-07T23:27:08.014744",
     "exception": false,
     "start_time": "2022-01-07T23:27:07.977400",
     "status": "completed"
    },
    "tags": []
   },
   "source": [
    "**Accuracy is not the best metric to use when evaluating imbalanced datasets as it can be misleading.**\n",
    "\n",
    "**Metrics that can provide better insight are:**\n",
    "\n",
    "**Confusion Matrix: a table showing correct predictions and types of incorrect predictions.**\n",
    "\n",
    "**Precision: the number of true positives divided by all positive predictions. Precision is also called Positive Predictive Value. It is a measure of a classifier’s exactness. Low precision indicates a high number of false positives.**\n",
    "\n",
    "**Recall: the number of true positives divided by the number of positive values in the test data. The recall is also called Sensitivity or the True Positive Rate. It is a measure of a classifier’s completeness. Low recall indicates a high number of false negatives.**\n",
    "\n",
    "**F1: Score: the weighted average of precision and recall.**\n",
    "\n",
    "**Area Under ROC Curve (AUROC): AUROC represents the likelihood of your model distinguishing observations from two classes.**\n",
    "\n",
    "**In other words, if you randomly select one observation from each class, what’s the probability that your model will be able to “rank” them correctly?**"
   ]
  },
  {
   "cell_type": "markdown",
   "id": "73f411b9",
   "metadata": {
    "papermill": {
     "duration": 0.036387,
     "end_time": "2022-01-07T23:27:08.087843",
     "exception": false,
     "start_time": "2022-01-07T23:27:08.051456",
     "status": "completed"
    },
    "tags": []
   },
   "source": [
    "# **9. Penalize Algorithms (Cost-Sensitive Training)**"
   ]
  },
  {
   "cell_type": "markdown",
   "id": "b206e403",
   "metadata": {
    "papermill": {
     "duration": 0.036281,
     "end_time": "2022-01-07T23:27:08.160711",
     "exception": false,
     "start_time": "2022-01-07T23:27:08.124430",
     "status": "completed"
    },
    "tags": []
   },
   "source": [
    "**The next tactic is to use penalized learning algorithms that increase the cost of classification mistakes on the minority class.**\n",
    "\n",
    "**A popular algorithm for this technique is Penalized-SVM.**\n",
    "\n",
    "**During training, we can use the argument class_weight=’balanced’ to penalize mistakes on the minority class by an amount proportional to how under-represented it is.**\n",
    "\n",
    "**We also want to include the argument probability=True if we want to enable probability estimates for SVM algorithms.**\n",
    "\n",
    "**Let’s train a model using Penalized-SVM on the original imbalanced dataset:**"
   ]
  },
  {
   "cell_type": "code",
   "execution_count": 17,
   "id": "41973370",
   "metadata": {
    "execution": {
     "iopub.execute_input": "2022-01-07T23:27:08.239559Z",
     "iopub.status.busy": "2022-01-07T23:27:08.238883Z",
     "iopub.status.idle": "2022-01-07T23:27:08.240412Z",
     "shell.execute_reply": "2022-01-07T23:27:08.240955Z",
     "shell.execute_reply.started": "2022-01-07T22:02:44.570112Z"
    },
    "papermill": {
     "duration": 0.043973,
     "end_time": "2022-01-07T23:27:08.241122",
     "exception": false,
     "start_time": "2022-01-07T23:27:08.197149",
     "status": "completed"
    },
    "tags": []
   },
   "outputs": [],
   "source": [
    "from sklearn.metrics import roc_auc_score\n",
    "from sklearn.metrics import accuracy_score\n",
    "from sklearn.metrics import f1_score"
   ]
  },
  {
   "cell_type": "code",
   "execution_count": 18,
   "id": "fb6b069a",
   "metadata": {
    "execution": {
     "iopub.execute_input": "2022-01-07T23:27:08.342396Z",
     "iopub.status.busy": "2022-01-07T23:27:08.341697Z",
     "iopub.status.idle": "2022-01-08T00:36:07.242368Z",
     "shell.execute_reply": "2022-01-08T00:36:07.243687Z",
     "shell.execute_reply.started": "2022-01-07T20:54:09.076958Z"
    },
    "papermill": {
     "duration": 4138.966866,
     "end_time": "2022-01-08T00:36:07.244897",
     "exception": false,
     "start_time": "2022-01-07T23:27:08.278031",
     "status": "completed"
    },
    "tags": []
   },
   "outputs": [],
   "source": [
    "# load library\n",
    "from sklearn.svm import SVC\n",
    "\n",
    "# we can add class_weight='balanced' to add panalize mistake\n",
    "svc_model = SVC(class_weight='balanced', probability=True)\n",
    "\n",
    "svc_model.fit(X_train, Y_train)\n",
    "\n",
    "svc_predict = svc_model.predict(X_test)# check performance\n"
   ]
  },
  {
   "cell_type": "code",
   "execution_count": 19,
   "id": "93e605d2",
   "metadata": {
    "execution": {
     "iopub.execute_input": "2022-01-08T00:36:07.338238Z",
     "iopub.status.busy": "2022-01-08T00:36:07.337476Z",
     "iopub.status.idle": "2022-01-08T00:36:07.366720Z",
     "shell.execute_reply": "2022-01-08T00:36:07.367343Z",
     "shell.execute_reply.started": "2022-01-07T20:54:09.079143Z"
    },
    "papermill": {
     "duration": 0.074508,
     "end_time": "2022-01-08T00:36:07.367517",
     "exception": false,
     "start_time": "2022-01-08T00:36:07.293009",
     "status": "completed"
    },
    "tags": []
   },
   "outputs": [
    {
     "name": "stdout",
     "output_type": "stream",
     "text": [
      "ROC-AUC score: 0.8691602996351446\n",
      "Accuracy score: 0.8727298727298727\n",
      "F1 score: 0.8214285714285714\n"
     ]
    }
   ],
   "source": [
    "print('ROC-AUC score:',roc_auc_score(Y_test, svc_predict))\n",
    "print('Accuracy score:',accuracy_score(Y_test, svc_predict))\n",
    "print('F1 score:',f1_score(Y_test, svc_predict))"
   ]
  },
  {
   "cell_type": "markdown",
   "id": "0704c60e",
   "metadata": {
    "papermill": {
     "duration": 0.03699,
     "end_time": "2022-01-08T00:36:07.442311",
     "exception": false,
     "start_time": "2022-01-08T00:36:07.405321",
     "status": "completed"
    },
    "tags": []
   },
   "source": [
    "# **10. Change the algorithm**"
   ]
  },
  {
   "cell_type": "markdown",
   "id": "07bdf2f1",
   "metadata": {
    "papermill": {
     "duration": 0.036925,
     "end_time": "2022-01-08T00:36:07.516351",
     "exception": false,
     "start_time": "2022-01-08T00:36:07.479426",
     "status": "completed"
    },
    "tags": []
   },
   "source": [
    "**While in every machine learning problem, it’s a good rule of thumb to try a variety of algorithms, it can be especially beneficial with imbalanced datasets.**\n",
    "\n",
    "**Decision trees frequently perform well on imbalanced data. In modern machine learning, tree ensembles (Random Forests, Gradient Boosted Trees, etc.) almost always outperform singular decision trees, so we’ll jump right into those:**\n",
    "\n",
    "**Tree base algorithm work by learning a hierarchy of if/else questions. This can force both classes to be addressed.**"
   ]
  },
  {
   "cell_type": "code",
   "execution_count": 20,
   "id": "6d8b31aa",
   "metadata": {
    "execution": {
     "iopub.execute_input": "2022-01-08T00:36:07.621760Z",
     "iopub.status.busy": "2022-01-08T00:36:07.593579Z",
     "iopub.status.idle": "2022-01-08T00:36:45.418334Z",
     "shell.execute_reply": "2022-01-08T00:36:45.418964Z",
     "shell.execute_reply.started": "2022-01-07T22:03:05.147546Z"
    },
    "papermill": {
     "duration": 37.865424,
     "end_time": "2022-01-08T00:36:45.419150",
     "exception": false,
     "start_time": "2022-01-08T00:36:07.553726",
     "status": "completed"
    },
    "tags": []
   },
   "outputs": [
    {
     "name": "stdout",
     "output_type": "stream",
     "text": [
      "ROCAUC score: 0.8643226414267002\n",
      "Accuracy score: 0.8748748748748749\n",
      "F1 score: 0.8192522206155752\n"
     ]
    }
   ],
   "source": [
    "# load library\n",
    "from sklearn.ensemble import RandomForestClassifier\n",
    "\n",
    "\n",
    "rfc = RandomForestClassifier()\n",
    "\n",
    "# fit the predictor and target\n",
    "rfc.fit(X_train, Y_train)\n",
    "\n",
    "# predict\n",
    "rfc_predict = rfc.predict(X_test)# check performance\n",
    "print('ROCAUC score:',roc_auc_score(Y_test, rfc_predict))\n",
    "print('Accuracy score:',accuracy_score(Y_test, rfc_predict))\n",
    "print('F1 score:',f1_score(Y_test, rfc_predict))"
   ]
  }
 ],
 "metadata": {
  "kernelspec": {
   "display_name": "Python 3",
   "language": "python",
   "name": "python3"
  },
  "language_info": {
   "codemirror_mode": {
    "name": "ipython",
    "version": 3
   },
   "file_extension": ".py",
   "mimetype": "text/x-python",
   "name": "python",
   "nbconvert_exporter": "python",
   "pygments_lexer": "ipython3",
   "version": "3.7.12"
  },
  "papermill": {
   "default_parameters": {},
   "duration": 6565.275269,
   "end_time": "2022-01-08T00:36:47.197858",
   "environment_variables": {},
   "exception": null,
   "input_path": "__notebook__.ipynb",
   "output_path": "__notebook__.ipynb",
   "parameters": {},
   "start_time": "2022-01-07T22:47:21.922589",
   "version": "2.3.3"
  }
 },
 "nbformat": 4,
 "nbformat_minor": 5
}
